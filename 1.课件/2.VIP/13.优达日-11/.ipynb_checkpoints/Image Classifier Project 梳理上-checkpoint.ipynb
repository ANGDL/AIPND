{
 "cells": [
  {
   "cell_type": "markdown",
   "metadata": {},
   "source": [
    "## 1. 加载数据\n",
    "### 1.1 Pytorch中的dataset\n",
    "\n",
    "https://pytorch.org/docs/stable/data.html   "
   ]
  },
  {
   "cell_type": "code",
   "execution_count": 1,
   "metadata": {},
   "outputs": [],
   "source": [
    "import torch\n",
    "from torch.utils.data import Dataset"
   ]
  },
  {
   "cell_type": "code",
   "execution_count": 2,
   "metadata": {},
   "outputs": [],
   "source": [
    "class SimpleSet(Dataset):    \n",
    "    def __init__(self, length = 100, transform = None):\n",
    "        self.x1 = 2 * torch.ones(length, 2) # 样本， length是样本数量， 2是样本特征数\n",
    "        self.y1 = torch.ones(length, 1)  # x1样本对应的标签\n",
    "        self.x2 = torch.zeros(length, 2) - 1\n",
    "        self.y2 = torch.zeros(length, 1) \n",
    "           \n",
    "        self.x = torch.cat((self.x1, self.x2), dim=0) # 拼接上面的数据\n",
    "        self.y = torch.cat((self.y1, self.y2))\n",
    "        \n",
    "        self.transform = transform # 变换函数\n",
    "        self.len = len(self.x)  # 数据长度\n",
    "     \n",
    "    # Getter\n",
    "    def __getitem__(self, index):\n",
    "        sample = self.x[index], self.y[index]\n",
    "        if self.transform:\n",
    "            sample = self.transform(sample)     \n",
    "        return sample\n",
    "    \n",
    "    # Get Length\n",
    "    def __len__(self):\n",
    "        return self.len"
   ]
  },
  {
   "cell_type": "code",
   "execution_count": 4,
   "metadata": {},
   "outputs": [],
   "source": [
    "dataset0 = SimpleSet()"
   ]
  },
  {
   "cell_type": "code",
   "execution_count": 5,
   "metadata": {},
   "outputs": [
    {
     "data": {
      "text/plain": [
       "(tensor([2., 2.]), tensor([1.]))"
      ]
     },
     "execution_count": 5,
     "metadata": {},
     "output_type": "execute_result"
    }
   ],
   "source": [
    "dataset0[0]"
   ]
  },
  {
   "cell_type": "code",
   "execution_count": 6,
   "metadata": {},
   "outputs": [
    {
     "data": {
      "text/plain": [
       "(tensor([-1., -1.]), tensor([0.]))"
      ]
     },
     "execution_count": 6,
     "metadata": {},
     "output_type": "execute_result"
    }
   ],
   "source": [
    "dataset0[-1]"
   ]
  },
  {
   "cell_type": "markdown",
   "metadata": {},
   "source": [
    "### 1.2 dataset中的Transforms"
   ]
  },
  {
   "cell_type": "code",
   "execution_count": 7,
   "metadata": {},
   "outputs": [],
   "source": [
    "class PowerTrans():\n",
    "    def __init__(self, n = 2):\n",
    "        self.n = n\n",
    "    \n",
    "    # 执行函数\n",
    "    def __call__(self, sample):\n",
    "        x = sample[0]\n",
    "        y = sample[1]\n",
    "        \n",
    "        x = torch.pow(x, self.n)\n",
    "        \n",
    "        return x, y"
   ]
  },
  {
   "cell_type": "code",
   "execution_count": 8,
   "metadata": {},
   "outputs": [],
   "source": [
    "pow_transform = PowerTrans(n=3)\n",
    "dataset1 = SimpleSet(transform=pow_transform)"
   ]
  },
  {
   "cell_type": "code",
   "execution_count": 9,
   "metadata": {},
   "outputs": [
    {
     "data": {
      "text/plain": [
       "(tensor([8., 8.]), tensor([1.]))"
      ]
     },
     "execution_count": 9,
     "metadata": {},
     "output_type": "execute_result"
    }
   ],
   "source": [
    "dataset1[0]"
   ]
  },
  {
   "cell_type": "code",
   "execution_count": 10,
   "metadata": {},
   "outputs": [
    {
     "data": {
      "text/plain": [
       "(tensor([-1., -1.]), tensor([0.]))"
      ]
     },
     "execution_count": 10,
     "metadata": {},
     "output_type": "execute_result"
    }
   ],
   "source": [
    "dataset1[-1]"
   ]
  },
  {
   "cell_type": "markdown",
   "metadata": {},
   "source": [
    "### 1.3 transforms.Compose"
   ]
  },
  {
   "cell_type": "code",
   "execution_count": 11,
   "metadata": {},
   "outputs": [],
   "source": [
    "from torchvision import transforms"
   ]
  },
  {
   "cell_type": "code",
   "execution_count": 12,
   "metadata": {},
   "outputs": [],
   "source": [
    "class MultTrans(object):\n",
    "    \n",
    "    # Constructor\n",
    "    def __init__(self, mult = 10):\n",
    "        self.mult = mult\n",
    "        \n",
    "    # Executor\n",
    "    def __call__(self, sample):\n",
    "        x = sample[0]\n",
    "        y = sample[1]\n",
    "        x = x * self.mult\n",
    "        sample = x, y\n",
    "        return sample"
   ]
  },
  {
   "cell_type": "code",
   "execution_count": 13,
   "metadata": {},
   "outputs": [],
   "source": [
    "data_transform = transforms.Compose([PowerTrans(), MultTrans()])"
   ]
  },
  {
   "cell_type": "code",
   "execution_count": 14,
   "metadata": {},
   "outputs": [
    {
     "data": {
      "text/plain": [
       "(tensor([40., 40.]), tensor([1.]))"
      ]
     },
     "execution_count": 14,
     "metadata": {},
     "output_type": "execute_result"
    }
   ],
   "source": [
    "dataset2 = SimpleSet(transform=data_transform)\n",
    "dataset2[0]"
   ]
  },
  {
   "cell_type": "code",
   "execution_count": 15,
   "metadata": {
    "scrolled": true
   },
   "outputs": [
    {
     "data": {
      "text/plain": [
       "(tensor([10., 10.]), tensor([0.]))"
      ]
     },
     "execution_count": 15,
     "metadata": {},
     "output_type": "execute_result"
    }
   ],
   "source": [
    "dataset2[-1]"
   ]
  },
  {
   "cell_type": "markdown",
   "metadata": {},
   "source": [
    "### 1.4 DataLoader"
   ]
  },
  {
   "cell_type": "code",
   "execution_count": 16,
   "metadata": {
    "scrolled": true
   },
   "outputs": [
    {
     "data": {
      "text/plain": [
       "(tensor([[40., 40.],\n",
       "         [40., 40.],\n",
       "         [40., 40.],\n",
       "         [40., 40.],\n",
       "         [40., 40.]]), tensor([[1.],\n",
       "         [1.],\n",
       "         [1.],\n",
       "         [1.],\n",
       "         [1.]]))"
      ]
     },
     "execution_count": 16,
     "metadata": {},
     "output_type": "execute_result"
    }
   ],
   "source": [
    "dataset2[:5]"
   ]
  },
  {
   "cell_type": "code",
   "execution_count": 17,
   "metadata": {},
   "outputs": [
    {
     "data": {
      "text/plain": [
       "(tensor([[40., 40.],\n",
       "         [40., 40.],\n",
       "         [40., 40.],\n",
       "         [40., 40.],\n",
       "         [40., 40.]]), tensor([[1.],\n",
       "         [1.],\n",
       "         [1.],\n",
       "         [1.],\n",
       "         [1.]]))"
      ]
     },
     "execution_count": 17,
     "metadata": {},
     "output_type": "execute_result"
    }
   ],
   "source": [
    "dataset2[5:10]"
   ]
  },
  {
   "cell_type": "code",
   "execution_count": 18,
   "metadata": {},
   "outputs": [],
   "source": [
    "# 如果dataset中的样本是按label顺寻存放的，那么在训练集使用乱序模式，\n",
    "# 为了能在一个batch_size的样本数量内接触更多类别的样本，\n",
    "# 防止网络模型对某一个类型产生过拟合，提高模型的泛化能力。\n",
    "# 测试集则不需要。\n",
    "dataloaders = torch.utils.data.DataLoader(dataset=dataset2,  batch_size=100, shuffle=False)"
   ]
  },
  {
   "cell_type": "code",
   "execution_count": 21,
   "metadata": {},
   "outputs": [
    {
     "data": {
      "text/plain": [
       "2"
      ]
     },
     "execution_count": 21,
     "metadata": {},
     "output_type": "execute_result"
    }
   ],
   "source": [
    "len(dataloaders)"
   ]
  },
  {
   "cell_type": "code",
   "execution_count": 19,
   "metadata": {},
   "outputs": [],
   "source": [
    "it_data = iter(dataloaders)"
   ]
  },
  {
   "cell_type": "code",
   "execution_count": 20,
   "metadata": {},
   "outputs": [
    {
     "data": {
      "text/plain": [
       "[tensor([[40., 40.],\n",
       "         [40., 40.],\n",
       "         [40., 40.],\n",
       "         [40., 40.],\n",
       "         [40., 40.],\n",
       "         [40., 40.],\n",
       "         [40., 40.],\n",
       "         [40., 40.],\n",
       "         [40., 40.],\n",
       "         [40., 40.],\n",
       "         [40., 40.],\n",
       "         [40., 40.],\n",
       "         [40., 40.],\n",
       "         [40., 40.],\n",
       "         [40., 40.],\n",
       "         [40., 40.],\n",
       "         [40., 40.],\n",
       "         [40., 40.],\n",
       "         [40., 40.],\n",
       "         [40., 40.],\n",
       "         [40., 40.],\n",
       "         [40., 40.],\n",
       "         [40., 40.],\n",
       "         [40., 40.],\n",
       "         [40., 40.],\n",
       "         [40., 40.],\n",
       "         [40., 40.],\n",
       "         [40., 40.],\n",
       "         [40., 40.],\n",
       "         [40., 40.],\n",
       "         [40., 40.],\n",
       "         [40., 40.],\n",
       "         [40., 40.],\n",
       "         [40., 40.],\n",
       "         [40., 40.],\n",
       "         [40., 40.],\n",
       "         [40., 40.],\n",
       "         [40., 40.],\n",
       "         [40., 40.],\n",
       "         [40., 40.],\n",
       "         [40., 40.],\n",
       "         [40., 40.],\n",
       "         [40., 40.],\n",
       "         [40., 40.],\n",
       "         [40., 40.],\n",
       "         [40., 40.],\n",
       "         [40., 40.],\n",
       "         [40., 40.],\n",
       "         [40., 40.],\n",
       "         [40., 40.],\n",
       "         [40., 40.],\n",
       "         [40., 40.],\n",
       "         [40., 40.],\n",
       "         [40., 40.],\n",
       "         [40., 40.],\n",
       "         [40., 40.],\n",
       "         [40., 40.],\n",
       "         [40., 40.],\n",
       "         [40., 40.],\n",
       "         [40., 40.],\n",
       "         [40., 40.],\n",
       "         [40., 40.],\n",
       "         [40., 40.],\n",
       "         [40., 40.],\n",
       "         [40., 40.],\n",
       "         [40., 40.],\n",
       "         [40., 40.],\n",
       "         [40., 40.],\n",
       "         [40., 40.],\n",
       "         [40., 40.],\n",
       "         [40., 40.],\n",
       "         [40., 40.],\n",
       "         [40., 40.],\n",
       "         [40., 40.],\n",
       "         [40., 40.],\n",
       "         [40., 40.],\n",
       "         [40., 40.],\n",
       "         [40., 40.],\n",
       "         [40., 40.],\n",
       "         [40., 40.],\n",
       "         [40., 40.],\n",
       "         [40., 40.],\n",
       "         [40., 40.],\n",
       "         [40., 40.],\n",
       "         [40., 40.],\n",
       "         [40., 40.],\n",
       "         [40., 40.],\n",
       "         [40., 40.],\n",
       "         [40., 40.],\n",
       "         [40., 40.],\n",
       "         [40., 40.],\n",
       "         [40., 40.],\n",
       "         [40., 40.],\n",
       "         [40., 40.],\n",
       "         [40., 40.],\n",
       "         [40., 40.],\n",
       "         [40., 40.],\n",
       "         [40., 40.],\n",
       "         [40., 40.],\n",
       "         [40., 40.]]), tensor([[1.],\n",
       "         [1.],\n",
       "         [1.],\n",
       "         [1.],\n",
       "         [1.],\n",
       "         [1.],\n",
       "         [1.],\n",
       "         [1.],\n",
       "         [1.],\n",
       "         [1.],\n",
       "         [1.],\n",
       "         [1.],\n",
       "         [1.],\n",
       "         [1.],\n",
       "         [1.],\n",
       "         [1.],\n",
       "         [1.],\n",
       "         [1.],\n",
       "         [1.],\n",
       "         [1.],\n",
       "         [1.],\n",
       "         [1.],\n",
       "         [1.],\n",
       "         [1.],\n",
       "         [1.],\n",
       "         [1.],\n",
       "         [1.],\n",
       "         [1.],\n",
       "         [1.],\n",
       "         [1.],\n",
       "         [1.],\n",
       "         [1.],\n",
       "         [1.],\n",
       "         [1.],\n",
       "         [1.],\n",
       "         [1.],\n",
       "         [1.],\n",
       "         [1.],\n",
       "         [1.],\n",
       "         [1.],\n",
       "         [1.],\n",
       "         [1.],\n",
       "         [1.],\n",
       "         [1.],\n",
       "         [1.],\n",
       "         [1.],\n",
       "         [1.],\n",
       "         [1.],\n",
       "         [1.],\n",
       "         [1.],\n",
       "         [1.],\n",
       "         [1.],\n",
       "         [1.],\n",
       "         [1.],\n",
       "         [1.],\n",
       "         [1.],\n",
       "         [1.],\n",
       "         [1.],\n",
       "         [1.],\n",
       "         [1.],\n",
       "         [1.],\n",
       "         [1.],\n",
       "         [1.],\n",
       "         [1.],\n",
       "         [1.],\n",
       "         [1.],\n",
       "         [1.],\n",
       "         [1.],\n",
       "         [1.],\n",
       "         [1.],\n",
       "         [1.],\n",
       "         [1.],\n",
       "         [1.],\n",
       "         [1.],\n",
       "         [1.],\n",
       "         [1.],\n",
       "         [1.],\n",
       "         [1.],\n",
       "         [1.],\n",
       "         [1.],\n",
       "         [1.],\n",
       "         [1.],\n",
       "         [1.],\n",
       "         [1.],\n",
       "         [1.],\n",
       "         [1.],\n",
       "         [1.],\n",
       "         [1.],\n",
       "         [1.],\n",
       "         [1.],\n",
       "         [1.],\n",
       "         [1.],\n",
       "         [1.],\n",
       "         [1.],\n",
       "         [1.],\n",
       "         [1.],\n",
       "         [1.],\n",
       "         [1.],\n",
       "         [1.],\n",
       "         [1.]])]"
      ]
     },
     "execution_count": 20,
     "metadata": {},
     "output_type": "execute_result"
    }
   ],
   "source": [
    "first_batch_data = next(it_data)\n",
    "first_batch_data"
   ]
  },
  {
   "cell_type": "code",
   "execution_count": 42,
   "metadata": {},
   "outputs": [
    {
     "name": "stdout",
     "output_type": "stream",
     "text": [
      "tensor([[40., 40.],\n",
      "        [40., 40.],\n",
      "        [40., 40.],\n",
      "        [40., 40.],\n",
      "        [40., 40.],\n",
      "        [40., 40.],\n",
      "        [40., 40.],\n",
      "        [40., 40.],\n",
      "        [40., 40.],\n",
      "        [40., 40.],\n",
      "        [40., 40.],\n",
      "        [40., 40.],\n",
      "        [40., 40.],\n",
      "        [40., 40.],\n",
      "        [40., 40.],\n",
      "        [40., 40.],\n",
      "        [40., 40.],\n",
      "        [40., 40.],\n",
      "        [40., 40.],\n",
      "        [40., 40.],\n",
      "        [40., 40.],\n",
      "        [40., 40.],\n",
      "        [40., 40.],\n",
      "        [40., 40.],\n",
      "        [40., 40.],\n",
      "        [40., 40.],\n",
      "        [40., 40.],\n",
      "        [40., 40.],\n",
      "        [40., 40.],\n",
      "        [40., 40.],\n",
      "        [40., 40.],\n",
      "        [40., 40.],\n",
      "        [40., 40.],\n",
      "        [40., 40.],\n",
      "        [40., 40.],\n",
      "        [40., 40.],\n",
      "        [40., 40.],\n",
      "        [40., 40.],\n",
      "        [40., 40.],\n",
      "        [40., 40.],\n",
      "        [40., 40.],\n",
      "        [40., 40.],\n",
      "        [40., 40.],\n",
      "        [40., 40.],\n",
      "        [40., 40.],\n",
      "        [40., 40.],\n",
      "        [40., 40.],\n",
      "        [40., 40.],\n",
      "        [40., 40.],\n",
      "        [40., 40.],\n",
      "        [40., 40.],\n",
      "        [40., 40.],\n",
      "        [40., 40.],\n",
      "        [40., 40.],\n",
      "        [40., 40.],\n",
      "        [40., 40.],\n",
      "        [40., 40.],\n",
      "        [40., 40.],\n",
      "        [40., 40.],\n",
      "        [40., 40.],\n",
      "        [40., 40.],\n",
      "        [40., 40.],\n",
      "        [40., 40.],\n",
      "        [40., 40.],\n",
      "        [40., 40.],\n",
      "        [40., 40.],\n",
      "        [40., 40.],\n",
      "        [40., 40.],\n",
      "        [40., 40.],\n",
      "        [40., 40.],\n",
      "        [40., 40.],\n",
      "        [40., 40.],\n",
      "        [40., 40.],\n",
      "        [40., 40.],\n",
      "        [40., 40.],\n",
      "        [40., 40.],\n",
      "        [40., 40.],\n",
      "        [40., 40.],\n",
      "        [40., 40.],\n",
      "        [40., 40.],\n",
      "        [40., 40.],\n",
      "        [40., 40.],\n",
      "        [40., 40.],\n",
      "        [40., 40.],\n",
      "        [40., 40.],\n",
      "        [40., 40.],\n",
      "        [40., 40.],\n",
      "        [40., 40.],\n",
      "        [40., 40.],\n",
      "        [40., 40.],\n",
      "        [40., 40.],\n",
      "        [40., 40.],\n",
      "        [40., 40.],\n",
      "        [40., 40.],\n",
      "        [40., 40.],\n",
      "        [40., 40.],\n",
      "        [40., 40.],\n",
      "        [40., 40.],\n",
      "        [40., 40.],\n",
      "        [40., 40.]]) tensor([[1.],\n",
      "        [1.],\n",
      "        [1.],\n",
      "        [1.],\n",
      "        [1.],\n",
      "        [1.],\n",
      "        [1.],\n",
      "        [1.],\n",
      "        [1.],\n",
      "        [1.],\n",
      "        [1.],\n",
      "        [1.],\n",
      "        [1.],\n",
      "        [1.],\n",
      "        [1.],\n",
      "        [1.],\n",
      "        [1.],\n",
      "        [1.],\n",
      "        [1.],\n",
      "        [1.],\n",
      "        [1.],\n",
      "        [1.],\n",
      "        [1.],\n",
      "        [1.],\n",
      "        [1.],\n",
      "        [1.],\n",
      "        [1.],\n",
      "        [1.],\n",
      "        [1.],\n",
      "        [1.],\n",
      "        [1.],\n",
      "        [1.],\n",
      "        [1.],\n",
      "        [1.],\n",
      "        [1.],\n",
      "        [1.],\n",
      "        [1.],\n",
      "        [1.],\n",
      "        [1.],\n",
      "        [1.],\n",
      "        [1.],\n",
      "        [1.],\n",
      "        [1.],\n",
      "        [1.],\n",
      "        [1.],\n",
      "        [1.],\n",
      "        [1.],\n",
      "        [1.],\n",
      "        [1.],\n",
      "        [1.],\n",
      "        [1.],\n",
      "        [1.],\n",
      "        [1.],\n",
      "        [1.],\n",
      "        [1.],\n",
      "        [1.],\n",
      "        [1.],\n",
      "        [1.],\n",
      "        [1.],\n",
      "        [1.],\n",
      "        [1.],\n",
      "        [1.],\n",
      "        [1.],\n",
      "        [1.],\n",
      "        [1.],\n",
      "        [1.],\n",
      "        [1.],\n",
      "        [1.],\n",
      "        [1.],\n",
      "        [1.],\n",
      "        [1.],\n",
      "        [1.],\n",
      "        [1.],\n",
      "        [1.],\n",
      "        [1.],\n",
      "        [1.],\n",
      "        [1.],\n",
      "        [1.],\n",
      "        [1.],\n",
      "        [1.],\n",
      "        [1.],\n",
      "        [1.],\n",
      "        [1.],\n",
      "        [1.],\n",
      "        [1.],\n",
      "        [1.],\n",
      "        [1.],\n",
      "        [1.],\n",
      "        [1.],\n",
      "        [1.],\n",
      "        [1.],\n",
      "        [1.],\n",
      "        [1.],\n",
      "        [1.],\n",
      "        [1.],\n",
      "        [1.],\n",
      "        [1.],\n",
      "        [1.],\n",
      "        [1.],\n",
      "        [1.]])\n",
      "0\n",
      "tensor([[10., 10.],\n",
      "        [10., 10.],\n",
      "        [10., 10.],\n",
      "        [10., 10.],\n",
      "        [10., 10.],\n",
      "        [10., 10.],\n",
      "        [10., 10.],\n",
      "        [10., 10.],\n",
      "        [10., 10.],\n",
      "        [10., 10.],\n",
      "        [10., 10.],\n",
      "        [10., 10.],\n",
      "        [10., 10.],\n",
      "        [10., 10.],\n",
      "        [10., 10.],\n",
      "        [10., 10.],\n",
      "        [10., 10.],\n",
      "        [10., 10.],\n",
      "        [10., 10.],\n",
      "        [10., 10.],\n",
      "        [10., 10.],\n",
      "        [10., 10.],\n",
      "        [10., 10.],\n",
      "        [10., 10.],\n",
      "        [10., 10.],\n",
      "        [10., 10.],\n",
      "        [10., 10.],\n",
      "        [10., 10.],\n",
      "        [10., 10.],\n",
      "        [10., 10.],\n",
      "        [10., 10.],\n",
      "        [10., 10.],\n",
      "        [10., 10.],\n",
      "        [10., 10.],\n",
      "        [10., 10.],\n",
      "        [10., 10.],\n",
      "        [10., 10.],\n",
      "        [10., 10.],\n",
      "        [10., 10.],\n",
      "        [10., 10.],\n",
      "        [10., 10.],\n",
      "        [10., 10.],\n",
      "        [10., 10.],\n",
      "        [10., 10.],\n",
      "        [10., 10.],\n",
      "        [10., 10.],\n",
      "        [10., 10.],\n",
      "        [10., 10.],\n",
      "        [10., 10.],\n",
      "        [10., 10.],\n",
      "        [10., 10.],\n",
      "        [10., 10.],\n",
      "        [10., 10.],\n",
      "        [10., 10.],\n",
      "        [10., 10.],\n",
      "        [10., 10.],\n",
      "        [10., 10.],\n",
      "        [10., 10.],\n",
      "        [10., 10.],\n",
      "        [10., 10.],\n",
      "        [10., 10.],\n",
      "        [10., 10.],\n",
      "        [10., 10.],\n",
      "        [10., 10.],\n",
      "        [10., 10.],\n",
      "        [10., 10.],\n",
      "        [10., 10.],\n",
      "        [10., 10.],\n",
      "        [10., 10.],\n",
      "        [10., 10.],\n",
      "        [10., 10.],\n",
      "        [10., 10.],\n",
      "        [10., 10.],\n",
      "        [10., 10.],\n",
      "        [10., 10.],\n",
      "        [10., 10.],\n",
      "        [10., 10.],\n",
      "        [10., 10.],\n",
      "        [10., 10.],\n",
      "        [10., 10.],\n",
      "        [10., 10.],\n",
      "        [10., 10.],\n",
      "        [10., 10.],\n",
      "        [10., 10.],\n",
      "        [10., 10.],\n",
      "        [10., 10.],\n",
      "        [10., 10.],\n",
      "        [10., 10.],\n",
      "        [10., 10.],\n",
      "        [10., 10.],\n",
      "        [10., 10.],\n",
      "        [10., 10.],\n",
      "        [10., 10.],\n",
      "        [10., 10.],\n",
      "        [10., 10.],\n",
      "        [10., 10.],\n",
      "        [10., 10.],\n",
      "        [10., 10.],\n",
      "        [10., 10.],\n",
      "        [10., 10.]]) tensor([[0.],\n",
      "        [0.],\n",
      "        [0.],\n",
      "        [0.],\n",
      "        [0.],\n",
      "        [0.],\n",
      "        [0.],\n",
      "        [0.],\n",
      "        [0.],\n",
      "        [0.],\n",
      "        [0.],\n",
      "        [0.],\n",
      "        [0.],\n",
      "        [0.],\n",
      "        [0.],\n",
      "        [0.],\n",
      "        [0.],\n",
      "        [0.],\n",
      "        [0.],\n",
      "        [0.],\n",
      "        [0.],\n",
      "        [0.],\n",
      "        [0.],\n",
      "        [0.],\n",
      "        [0.],\n",
      "        [0.],\n",
      "        [0.],\n",
      "        [0.],\n",
      "        [0.],\n",
      "        [0.],\n",
      "        [0.],\n",
      "        [0.],\n",
      "        [0.],\n",
      "        [0.],\n",
      "        [0.],\n",
      "        [0.],\n",
      "        [0.],\n",
      "        [0.],\n",
      "        [0.],\n",
      "        [0.],\n",
      "        [0.],\n",
      "        [0.],\n",
      "        [0.],\n",
      "        [0.],\n",
      "        [0.],\n",
      "        [0.],\n",
      "        [0.],\n",
      "        [0.],\n",
      "        [0.],\n",
      "        [0.],\n",
      "        [0.],\n",
      "        [0.],\n",
      "        [0.],\n",
      "        [0.],\n",
      "        [0.],\n",
      "        [0.],\n",
      "        [0.],\n",
      "        [0.],\n",
      "        [0.],\n",
      "        [0.],\n",
      "        [0.],\n",
      "        [0.],\n",
      "        [0.],\n",
      "        [0.],\n",
      "        [0.],\n",
      "        [0.],\n",
      "        [0.],\n",
      "        [0.],\n",
      "        [0.],\n",
      "        [0.],\n",
      "        [0.],\n",
      "        [0.],\n",
      "        [0.],\n",
      "        [0.],\n",
      "        [0.],\n",
      "        [0.],\n",
      "        [0.],\n",
      "        [0.],\n",
      "        [0.],\n",
      "        [0.],\n",
      "        [0.],\n",
      "        [0.],\n",
      "        [0.],\n",
      "        [0.],\n",
      "        [0.],\n",
      "        [0.],\n",
      "        [0.],\n",
      "        [0.],\n",
      "        [0.],\n",
      "        [0.],\n",
      "        [0.],\n",
      "        [0.],\n",
      "        [0.],\n",
      "        [0.],\n",
      "        [0.],\n",
      "        [0.],\n",
      "        [0.],\n",
      "        [0.],\n",
      "        [0.],\n",
      "        [0.]])\n",
      "1\n"
     ]
    }
   ],
   "source": [
    "for i, (x, y) in enumerate(dataloaders):\n",
    "    print(x, y)\n",
    "    print(i)"
   ]
  },
  {
   "attachments": {
    "1.png": {
     "image/png": "[encoded data removed]"
    },
    "3.png": {
     "image/png": "[encoded data removed]"
    },
    "image.png": {
     "image/png": "[encoded data removed]"
    }
   },
   "cell_type": "markdown",
   "metadata": {},
   "source": [
    "## 1.5 ImageFolder\n",
    "\n",
    "https://pytorch.org/docs/stable/torchvision/datasets.html   \n",
    "https://github.com/pytorch/vision/blob/master/torchvision/datasets/folder.py\n",
    "\n",
    "文件存放规则：\n",
    "```\n",
    "root/类别1/xxx.png\n",
    "root/类别1/xxy.png\n",
    "root/类别1/xxz.png\n",
    "...\n",
    "root/类别n/123.png\n",
    "root/类别n/nsdf3.png\n",
    "root/类别n/asd932_.png\n",
    "```\n",
    "\n",
    "![1.png](attachment:1.png)\n",
    "![image.png](attachment:image.png)\n",
    "![3.png](attachment:3.png)"
   ]
  },
  {
   "cell_type": "markdown",
   "metadata": {},
   "source": [
    "1. **训练集中，使用图像反转、倾斜等变换是为了对图像数据进行拓展，让模型学习到更多的特征，提高模型的泛化能力。**\n",
    "2. 图像为什么要使用归一化（图像标准化）：归一化使得取值范围从0～255转化为0～1之间。https://zhuanlan.zhihu.com/p/35597976"
   ]
  },
  {
   "cell_type": "markdown",
   "metadata": {},
   "source": [
    "### 加载数据, 通关提示👇\n",
    "\n",
    "1. 仿照照上面的方式定义好train_transforms和test_transforms\n",
    "2. train_datasets使用train_transforms， valid_datasets和test_dataset使用test_transforms \n",
    "3. train_loader使用乱序，valid_loader和test_loader不使用"
   ]
  },
  {
   "cell_type": "markdown",
   "metadata": {},
   "source": [
    "----\n",
    "```python\n",
    "train_dir = '/data/flowers/train'\n",
    "valid_dir = '/data/flowers/valid'\n",
    "test_dir = '/data/flowers/test'\n",
    "```\n",
    "----\n",
    "```python\n",
    "# TODO: 定义transforms\n",
    "train_transforms = \n",
    "test_transforms = \n",
    "# TODO: 使用dir路径定义datasets，注意配置相对应的transforms\n",
    "train_datasets = \n",
    "valid_datasets = \n",
    "test_dataset =\n",
    "# TODO: 使用datasets定义dataloaders\n",
    "train_loader = \n",
    "valid_loader =\n",
    "test_loader =\n",
    "```\n",
    "----"
   ]
  },
  {
   "cell_type": "markdown",
   "metadata": {},
   "source": [
    "## 2. Label mapping"
   ]
  },
  {
   "cell_type": "code",
   "execution_count": 43,
   "metadata": {
    "scrolled": true
   },
   "outputs": [
    {
     "name": "stdout",
     "output_type": "stream",
     "text": [
      "21:fire lily\n",
      "3:canterbury bells\n",
      "45:bolero deep blue\n",
      "1:pink primrose\n",
      "34:mexican aster\n",
      "27:prince of wales feathers\n",
      "7:moon orchid\n",
      "16:globe-flower\n",
      "25:grape hyacinth\n",
      "26:corn poppy\n",
      "79:toad lily\n",
      "39:siam tulip\n",
      "24:red ginger\n",
      "67:spring crocus\n",
      "35:alpine sea holly\n",
      "32:garden phlox\n",
      "10:globe thistle\n",
      "6:tiger lily\n",
      "93:ball moss\n",
      "33:love in the mist\n",
      "9:monkshood\n",
      "102:blackberry lily\n",
      "14:spear thistle\n",
      "19:balloon flower\n",
      "100:blanket flower\n",
      "13:king protea\n",
      "49:oxeye daisy\n",
      "15:yellow iris\n",
      "61:cautleya spicata\n",
      "31:carnation\n",
      "64:silverbush\n",
      "68:bearded iris\n",
      "63:black-eyed susan\n",
      "69:windflower\n",
      "62:japanese anemone\n",
      "20:giant white arum lily\n",
      "38:great masterwort\n",
      "4:sweet pea\n",
      "86:tree mallow\n",
      "101:trumpet creeper\n",
      "42:daffodil\n",
      "22:pincushion flower\n",
      "2:hard-leaved pocket orchid\n",
      "54:sunflower\n",
      "66:osteospermum\n",
      "70:tree poppy\n",
      "85:desert-rose\n",
      "99:bromelia\n",
      "87:magnolia\n",
      "5:english marigold\n",
      "92:bee balm\n",
      "28:stemless gentian\n",
      "97:mallow\n",
      "57:gaura\n",
      "40:lenten rose\n",
      "47:marigold\n",
      "59:orange dahlia\n",
      "48:buttercup\n",
      "55:pelargonium\n",
      "36:ruby-lipped cattleya\n",
      "91:hippeastrum\n",
      "29:artichoke\n",
      "71:gazania\n",
      "90:canna lily\n",
      "18:peruvian lily\n",
      "98:mexican petunia\n",
      "8:bird of paradise\n",
      "30:sweet william\n",
      "17:purple coneflower\n",
      "52:wild pansy\n",
      "84:columbine\n",
      "12:colt's foot\n",
      "11:snapdragon\n",
      "96:camellia\n",
      "23:fritillary\n",
      "50:common dandelion\n",
      "44:poinsettia\n",
      "53:primula\n",
      "72:azalea\n",
      "65:californian poppy\n",
      "80:anthurium\n",
      "76:morning glory\n",
      "37:cape flower\n",
      "56:bishop of llandaff\n",
      "60:pink-yellow dahlia\n",
      "82:clematis\n",
      "58:geranium\n",
      "75:thorn apple\n",
      "41:barbeton daisy\n",
      "95:bougainvillea\n",
      "43:sword lily\n",
      "83:hibiscus\n",
      "78:lotus lotus\n",
      "88:cyclamen\n",
      "94:foxglove\n",
      "81:frangipani\n",
      "74:rose\n",
      "89:watercress\n",
      "73:water lily\n",
      "46:wallflower\n",
      "77:passion flower\n",
      "51:petunia\n"
     ]
    }
   ],
   "source": [
    "import json\n",
    "\n",
    "with open('cat_to_name.json', 'r') as f:\n",
    "    cat_to_name = json.load(f)\n",
    "    for cat in cat_to_name:\n",
    "        print('{}:{}'.format(cat, cat_to_name[cat]))"
   ]
  },
  {
   "cell_type": "markdown",
   "metadata": {},
   "source": [
    "## 3. 构建和训练分类器\n",
    "### 3.1 构建自己的卷积网络（补充）\n",
    "https://pytorch.org/docs/stable/nn.html#"
   ]
  },
  {
   "cell_type": "code",
   "execution_count": 44,
   "metadata": {},
   "outputs": [],
   "source": [
    "import torch \n",
    "import torch.nn as nn\n",
    "\n",
    "class MyCNN(nn.Module):\n",
    "\n",
    "    # 定义各个网络层， 假设图像大小是(224, 224)\n",
    "    def __init__(self):\n",
    "        super().__init__()\n",
    "        # [None, 1, 224, 224] -> [None, 8, 224, 224]\n",
    "        # 224+2 = 226  226-3 / 1 + 1 = 224\n",
    "        self.cnn1 = nn.Conv2d(in_channels=1, out_channels=8, kernel_size=3, stride=1, padding=1)\n",
    "        self.relu1 = nn.ReLU()\n",
    "        # [None, 8, 224, 224] -> [None, 8, 112, 112]\n",
    "        self.maxpool1 = nn.MaxPool2d(kernel_size=2)\n",
    "        # [None, 8, 112, 112] -> [None, 16, 112, 112]\n",
    "        self.cnn2 = nn.Conv2d(in_channels=8, out_channels=16, kernel_size=3, stride=1, padding=1)\n",
    "        self.relu2 = nn.ReLU()\n",
    "        # [None, 16, 112, 112] -> [None, 16, 56, 56]\n",
    "        self.maxpool2 = nn.MaxPool2d(kernel_size=2)\n",
    "        # [None, 16 *56 * 56] -> [None, 10]\n",
    "        self.fc1 = nn.Linear(16 * 56 * 56, 10)\n",
    "        \n",
    "    \n",
    "    # Prediction，前向传播过程\n",
    "    def forward(self, x):\n",
    "        out = self.cnn1(x)\n",
    "        out = self.relu1(out)\n",
    "        out = self.maxpool1(out)\n",
    "        out = self.cnn2(out)\n",
    "        out = self.relu2(out)\n",
    "        out = self.maxpool2(out)\n",
    "        out = out.view(out.size(0), -1)  # 铺平\n",
    "        out = self.fc1(out)\n",
    "        \n",
    "        return out  "
   ]
  },
  {
   "cell_type": "code",
   "execution_count": 46,
   "metadata": {},
   "outputs": [],
   "source": [
    "img = torch.ones([1, 1, 224, 224])"
   ]
  },
  {
   "cell_type": "code",
   "execution_count": 47,
   "metadata": {},
   "outputs": [
    {
     "data": {
      "text/plain": [
       "<matplotlib.image.AxesImage at 0x1f7045e85c0>"
      ]
     },
     "execution_count": 47,
     "metadata": {},
     "output_type": "execute_result"
    },
    {
     "data": {
      "image/png": "[encoded data removed]",
      "text/plain": [
       "<Figure size 432x288 with 1 Axes>"
      ]
     },
     "metadata": {
      "needs_background": "light"
     },
     "output_type": "display_data"
    }
   ],
   "source": [
    "import matplotlib.pyplot as plt\n",
    "%matplotlib inline\n",
    "\n",
    "plt.imshow(img[0][0], cmap='gray')"
   ]
  },
  {
   "cell_type": "code",
   "execution_count": 48,
   "metadata": {},
   "outputs": [],
   "source": [
    "model = MyCNN()\n",
    "y = model(img)"
   ]
  },
  {
   "cell_type": "code",
   "execution_count": 53,
   "metadata": {},
   "outputs": [],
   "source": [
    "pro = torch.softmax(y, dim=1)"
   ]
  },
  {
   "cell_type": "code",
   "execution_count": 54,
   "metadata": {},
   "outputs": [
    {
     "data": {
      "text/plain": [
       "tensor([[0.1027, 0.0996, 0.0947, 0.1034, 0.1025, 0.0980, 0.0991, 0.1009, 0.0982,\n",
       "         0.1010]], grad_fn=<SoftmaxBackward>)"
      ]
     },
     "execution_count": 54,
     "metadata": {},
     "output_type": "execute_result"
    }
   ],
   "source": [
    "pro"
   ]
  },
  {
   "cell_type": "code",
   "execution_count": 55,
   "metadata": {},
   "outputs": [
    {
     "data": {
      "text/plain": [
       "tensor(1.0000, grad_fn=<SumBackward0>)"
      ]
     },
     "execution_count": 55,
     "metadata": {},
     "output_type": "execute_result"
    }
   ],
   "source": [
    "torch.sum(pro)"
   ]
  },
  {
   "attachments": {
    "4.jpg": {
     "image/jpeg": "[encoded data removed]"
    }
   },
   "cell_type": "markdown",
   "metadata": {},
   "source": [
    "### 3.2 迁移学习\n",
    "https://www.zhihu.com/topic/20079475/intro   \n",
    "https://pytorch.org/docs/master/torchvision/models.html   \n",
    "https://pytorch.org/tutorials/beginner/transfer_learning_tutorial.html   \n",
    "[教室：迁移学习解决方案](https://classroom.udacity.com/nanodegrees/nd089-cn-vip/parts/655c0eb7-8b46-4721-b982-6b541207fa28/modules/299dafc1-3ac7-4163-ab74-398a53da4dd5/lessons/ced34997-9af9-4f41-85c7-0e6940378d68/concepts/3ebe65d4-bd9d-43c1-b100-274c0d5e638e)\n",
    "![4.jpg](attachment:4.jpg)"
   ]
  },
  {
   "cell_type": "code",
   "execution_count": 56,
   "metadata": {
    "scrolled": true
   },
   "outputs": [
    {
     "data": {
      "text/plain": [
       "VGG(\n",
       "  (features): Sequential(\n",
       "    (0): Conv2d(3, 64, kernel_size=(3, 3), stride=(1, 1), padding=(1, 1))\n",
       "    (1): ReLU(inplace)\n",
       "    (2): Conv2d(64, 64, kernel_size=(3, 3), stride=(1, 1), padding=(1, 1))\n",
       "    (3): ReLU(inplace)\n",
       "    (4): MaxPool2d(kernel_size=2, stride=2, padding=0, dilation=1, ceil_mode=False)\n",
       "    (5): Conv2d(64, 128, kernel_size=(3, 3), stride=(1, 1), padding=(1, 1))\n",
       "    (6): ReLU(inplace)\n",
       "    (7): Conv2d(128, 128, kernel_size=(3, 3), stride=(1, 1), padding=(1, 1))\n",
       "    (8): ReLU(inplace)\n",
       "    (9): MaxPool2d(kernel_size=2, stride=2, padding=0, dilation=1, ceil_mode=False)\n",
       "    (10): Conv2d(128, 256, kernel_size=(3, 3), stride=(1, 1), padding=(1, 1))\n",
       "    (11): ReLU(inplace)\n",
       "    (12): Conv2d(256, 256, kernel_size=(3, 3), stride=(1, 1), padding=(1, 1))\n",
       "    (13): ReLU(inplace)\n",
       "    (14): Conv2d(256, 256, kernel_size=(3, 3), stride=(1, 1), padding=(1, 1))\n",
       "    (15): ReLU(inplace)\n",
       "    (16): MaxPool2d(kernel_size=2, stride=2, padding=0, dilation=1, ceil_mode=False)\n",
       "    (17): Conv2d(256, 512, kernel_size=(3, 3), stride=(1, 1), padding=(1, 1))\n",
       "    (18): ReLU(inplace)\n",
       "    (19): Conv2d(512, 512, kernel_size=(3, 3), stride=(1, 1), padding=(1, 1))\n",
       "    (20): ReLU(inplace)\n",
       "    (21): Conv2d(512, 512, kernel_size=(3, 3), stride=(1, 1), padding=(1, 1))\n",
       "    (22): ReLU(inplace)\n",
       "    (23): MaxPool2d(kernel_size=2, stride=2, padding=0, dilation=1, ceil_mode=False)\n",
       "    (24): Conv2d(512, 512, kernel_size=(3, 3), stride=(1, 1), padding=(1, 1))\n",
       "    (25): ReLU(inplace)\n",
       "    (26): Conv2d(512, 512, kernel_size=(3, 3), stride=(1, 1), padding=(1, 1))\n",
       "    (27): ReLU(inplace)\n",
       "    (28): Conv2d(512, 512, kernel_size=(3, 3), stride=(1, 1), padding=(1, 1))\n",
       "    (29): ReLU(inplace)\n",
       "    (30): MaxPool2d(kernel_size=2, stride=2, padding=0, dilation=1, ceil_mode=False)\n",
       "  )\n",
       "  (classifier): Sequential(\n",
       "    (0): Linear(in_features=25088, out_features=4096, bias=True)\n",
       "    (1): ReLU(inplace)\n",
       "    (2): Dropout(p=0.5)\n",
       "    (3): Linear(in_features=4096, out_features=4096, bias=True)\n",
       "    (4): ReLU(inplace)\n",
       "    (5): Dropout(p=0.5)\n",
       "    (6): Linear(in_features=4096, out_features=1000, bias=True)\n",
       "  )\n",
       ")"
      ]
     },
     "execution_count": 56,
     "metadata": {},
     "output_type": "execute_result"
    }
   ],
   "source": [
    "from torchvision import models\n",
    "\n",
    "# 带预训练参数的vgg16\n",
    "model = models.vgg16(pretrained=True)\n",
    "model"
   ]
  },
  {
   "cell_type": "code",
   "execution_count": 59,
   "metadata": {},
   "outputs": [
    {
     "data": {
      "text/plain": [
       "25088"
      ]
     },
     "execution_count": 59,
     "metadata": {},
     "output_type": "execute_result"
    }
   ],
   "source": [
    "model.classifier[0].in_features"
   ]
  },
  {
   "attachments": {
    "image.png": {
     "image/png": "[encoded data removed]"
    }
   },
   "cell_type": "markdown",
   "metadata": {},
   "source": [
    "#### 怎么使用vgg进行迁移学习？\n",
    "1. 固定classifier之前的网络参数。https://pytorch.org/docs/stable/notes/autograd.html?highlight=param%20requires_grad\n",
    "2. 定义自己的classifier, 保证最后一层的out_features是我们训练的类别数目。\n",
    "3. 把原本VGG的classifier替换为自己定义的classifier\n",
    "![image.png](attachment:image.png)"
   ]
  },
  {
   "cell_type": "markdown",
   "metadata": {},
   "source": [
    "### 构建和训练分类器， 通关提示👇\n",
    "1. 定义预训练模型 model = \n",
    "2. 设置每一层的param.requires_grad标志为false\n",
    "3. 定义自己的classifier， classifier =\n",
    "4. 将model的classifier替换为新的 model.classifier = classifier （无需修改）\n",
    "5. 将模型转入gpu model.cuda() （无需修改）"
   ]
  },
  {
   "cell_type": "markdown",
   "metadata": {},
   "source": [
    "### 3.3 定义损失函数\n",
    "1. nn.NLLLoss： input 在输入NLLLoss()之前，需要对input做log_softmax 或者softmax。即将input转换成概率分布的形式，并且取对数。`NLLLoss(x, class) = -x[class]`\n",
    "2. nn.CrossEntropyLoss：是log_softmax和nn.NLLLoss的结合。"
   ]
  },
  {
   "cell_type": "markdown",
   "metadata": {},
   "source": [
    "$$softmax(x_i) = \\frac{\\exp(x_i)}{\\sum_j \\exp(x_j)}$$ \n",
    "  \n",
    "$$log\\rule[-2pt]{0.1cm}{0.5pt}softmax(x_i) = log_e(softmax(x_i))$$"
   ]
  },
  {
   "cell_type": "code",
   "execution_count": 61,
   "metadata": {
    "scrolled": true
   },
   "outputs": [
    {
     "name": "stdout",
     "output_type": "stream",
     "text": [
      "x =  tensor([ 1.5410, -0.2934, -2.1788,  0.5684, -1.0845], grad_fn=<SelectBackward>)\n",
      "x_softmax= tensor([0.6118, 0.0977, 0.0148, 0.2313, 0.0443], grad_fn=<SelectBackward>)\n",
      "x_log_softmax= tensor([[-0.4913, -2.3257, -4.2111, -1.4639, -3.1168]], grad_fn=<LogBackward>)\n",
      "loss= tensor(2.3257, grad_fn=<NllLossBackward>)\n"
     ]
    }
   ],
   "source": [
    "torch.manual_seed(0)\n",
    "# 一个样本\n",
    "x = torch.randn(1, 5, requires_grad=True)\n",
    "print('x = ', x[0])\n",
    "# 样本对应的标签\n",
    "target = torch.tensor([1])\n",
    "# softmax\n",
    "softmax = nn.Softmax(dim=1)\n",
    "x_softmax = softmax(x)\n",
    "print('x_softmax=', x_softmax[0])\n",
    "# log\n",
    "x_log_softmax = torch.log(x_softmax)\n",
    "print('x_log_softmax=', x_log_softmax)\n",
    "# NLLLoss\n",
    "nll_loss = nn.NLLLoss()\n",
    "loss = nll_loss(x_log_softmax, target)\n",
    "print('loss=', loss)"
   ]
  },
  {
   "cell_type": "code",
   "execution_count": 62,
   "metadata": {},
   "outputs": [
    {
     "data": {
      "text/plain": [
       "tensor(2.3257, grad_fn=<NllLossBackward>)"
      ]
     },
     "execution_count": 62,
     "metadata": {},
     "output_type": "execute_result"
    }
   ],
   "source": [
    "log_softmax = nn.LogSoftmax(dim=1)\n",
    "output = nll_loss(log_softmax(x), target)\n",
    "output"
   ]
  },
  {
   "cell_type": "code",
   "execution_count": 63,
   "metadata": {},
   "outputs": [
    {
     "data": {
      "text/plain": [
       "tensor(2.3257, grad_fn=<NllLossBackward>)"
      ]
     },
     "execution_count": 63,
     "metadata": {},
     "output_type": "execute_result"
    }
   ],
   "source": [
    "ce_loss = nn.CrossEntropyLoss()\n",
    "ce_loss(x, target)"
   ]
  },
  {
   "cell_type": "markdown",
   "metadata": {},
   "source": [
    "### 3.4 设置优化器\n",
    "这一步是选择一种计算梯度下降的算法。   \n",
    "一般使用torch.optim.Adam"
   ]
  },
  {
   "cell_type": "markdown",
   "metadata": {},
   "source": [
    "### criterion和optimizer， 通关提示👇\n",
    "1. 若损失函数选择criterion = nn.CrossEntropyLoss()，则classifier中最后一层不应该增加激活函数\n",
    "2. optimizer推荐选择Adam，收敛比较快"
   ]
  },
  {
   "cell_type": "markdown",
   "metadata": {},
   "source": [
    "### 3.5 训练网络， 通关提示👇\n",
    "以课程中迁移学习lab代码进行讲解。  \n",
    "**训练部分**\n",
    "```python\n",
    "# 所有样本的迭代次数，3的意思就是，在训练过程中，\n",
    "# 所有的样本都会被训练3次,总训练次数也就是n*3，n是样本数\n",
    "epochs = 3  \n",
    "print_every = 40  # 每训练40次进行一次日志打印\n",
    "steps = 0  # 记录训练次数的\n",
    "\n",
    "# change to cuda\n",
    "model.to('cuda') # 使用GPU进行训练\n",
    "\n",
    "for e in range(epochs):\n",
    "    running_loss = 0  # 统计训练的loss\n",
    "    for ii, (inputs, labels) in enumerate(trainloader): # 遍历训练集\n",
    "        steps += 1  # 统计训练次数\n",
    "        \n",
    "        inputs, labels = inputs.to('cuda'), labels.to('cuda')  # 需要把inputs, labels都放到显存里\n",
    "        \n",
    "        optimizer.zero_grad()  # 每次循环都要清理梯度\n",
    "        \n",
    "        # Forward and backward passes\n",
    "        outputs = model.forward(inputs)   # 前向传播过程，得到预测值\n",
    "        loss = criterion(outputs, labels)  # 计算预测值和真实值之间的loss\n",
    "        loss.backward()  # 反向传播过程，计算梯度\n",
    "        optimizer.step()  # 更新网络训练的参数 w,b\n",
    "        \n",
    "        running_loss += loss.item()  # 统计loss\n",
    "        \n",
    "        # 打印print_every次loss求平均后，打印出来\n",
    "        if steps % print_every == 0:\n",
    "            print(\"Epoch: {}/{}... \".format(e+1, epochs),\n",
    "                  \"Loss: {:.4f}\".format(running_loss/print_every))  \n",
    "            \n",
    "            running_loss = 0\n",
    "```\n",
    "\n",
    "**测试或者验证部分 通关提示👇**\n",
    "```python\n",
    "correct = 0  # 统计准确率\n",
    "total = 0  # 统计每次迭代的样本数\n",
    "with torch.no_grad():  # 不计算梯度，因为不需要做反向传播\n",
    "    for data in testloader:  # 遍历测试集\n",
    "        images, labels = data  # images 是图像数据的tensor, labels是对应的标签\n",
    "        outputs = model(images)  # 得到预测值\n",
    "        _, predicted = torch.max(outputs.data, 1)  # 求出预测的类别，也就是最大值对用的索引\n",
    "        total += labels.size(0)  # 统计迭代的样本数\n",
    "        # 计算准确率\n",
    "        # item() get a Python number from a tensor containing a single value\n",
    "        correct += (predicted == labels).sum().item()  \n",
    "\n",
    "# 打印准确率\n",
    "print('Accuracy of the network on the 10000 test images: %d %%' % (100 * correct / total))\n",
    "\n",
    "```"
   ]
  },
  {
   "cell_type": "markdown",
   "metadata": {},
   "source": [
    "```python\n",
    "# TODO: 训练网络，需要有loss和accuracy打印输出\n",
    "def train(model, loader):\n",
    "    pass\n",
    "\n",
    "# TODO:测试网络，使用验证集或者测试集，训练模型时使用验证集，测试模型最终结果使用测试集\n",
    "# 需要有loss和accuracy打印输出\n",
    "def test(model, loader):\n",
    "    pass\n",
    "\n",
    "epoch = #TODO 修改epoch次数\n",
    "for _ in range(1, epoch):\n",
    "    train(model, #TODO)\n",
    "    test(model, #TODO)\n",
    "```"
   ]
  },
  {
   "cell_type": "markdown",
   "metadata": {},
   "source": [
    "### 3.6 测试网络\n",
    "```python\n",
    "# TODO: 在测试集上进行测试，需要输出结果\n",
    "test(model, #TODO)\n",
    "```"
   ]
  },
  {
   "cell_type": "code",
   "execution_count": 69,
   "metadata": {},
   "outputs": [
    {
     "data": {
      "text/plain": [
       "1"
      ]
     },
     "execution_count": 69,
     "metadata": {},
     "output_type": "execute_result"
    }
   ],
   "source": [
    "a = torch.tensor([[[1]]])\n",
    "a.item()"
   ]
  },
  {
   "cell_type": "code",
   "execution_count": 65,
   "metadata": {
    "scrolled": true
   },
   "outputs": [
    {
     "data": {
      "text/plain": [
       "tensor([1])"
      ]
     },
     "execution_count": 65,
     "metadata": {},
     "output_type": "execute_result"
    }
   ],
   "source": [
    "a"
   ]
  },
  {
   "cell_type": "code",
   "execution_count": 72,
   "metadata": {},
   "outputs": [
    {
     "data": {
      "text/plain": [
       "120"
      ]
     },
     "execution_count": 72,
     "metadata": {},
     "output_type": "execute_result"
    }
   ],
   "source": [
    "60 - 61 % 60 + 61"
   ]
  },
  {
   "cell_type": "code",
   "execution_count": 11,
   "metadata": {},
   "outputs": [
    {
     "data": {
      "text/plain": [
       "[5, 3, 2, 1]"
      ]
     },
     "execution_count": 11,
     "metadata": {},
     "output_type": "execute_result"
    }
   ],
   "source": [
    "l = [1, 2, 3, 5]\n",
    "l[::-1]"
   ]
  },
  {
   "cell_type": "code",
   "execution_count": 12,
   "metadata": {},
   "outputs": [
    {
     "name": "stdout",
     "output_type": "stream",
     "text": [
      "1\n",
      "2\n",
      "5\n"
     ]
    }
   ],
   "source": [
    "for i in l:\n",
    "    print(i)\n",
    "    if i == 2:\n",
    "        l.remove(i)\n",
    "    "
   ]
  }
 ],
 "metadata": {
  "kernelspec": {
   "display_name": "Python 3",
   "language": "python",
   "name": "python3"
  },
  "language_info": {
   "codemirror_mode": {
    "name": "ipython",
    "version": 3
   },
   "file_extension": ".py",
   "mimetype": "text/x-python",
   "name": "python",
   "nbconvert_exporter": "python",
   "pygments_lexer": "ipython3",
   "version": "3.6.8"
  }
 },
 "nbformat": 4,
 "nbformat_minor": 2
}
