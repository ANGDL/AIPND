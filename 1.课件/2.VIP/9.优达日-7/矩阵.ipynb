{
 "cells": [
  {
   "cell_type": "markdown",
   "metadata": {},
   "source": [
    "# Numpy 矩阵运算代码参考教程，请大家一定自己动手练习  \n",
    "http://liao.cpython.org/numpy10/"
   ]
  },
  {
   "cell_type": "markdown",
   "metadata": {},
   "source": [
    "# 书籍推荐，Part I 为数学基础\n",
    "https://github.com/exacity/deeplearningbook-chinese"
   ]
  },
  {
   "cell_type": "markdown",
   "metadata": {},
   "source": [
    "# 矩阵\n",
    "如果把向量看成是对数的拓展，一个向量表示一组数；那么矩阵可以看成是对向量的拓展，一个矩阵表示一组向量。   \n",
    "    \n",
    "矩阵的行数和列数可以不相等，行数和列数相等的矩阵叫做方阵。\n",
    "   \n",
    "![1.png](attachment:1.png)\n"
   ]
  },
  {
   "cell_type": "markdown",
   "metadata": {},
   "source": [
    "## 1. 矩阵的表示\n",
    "$$ \n",
    "A = \n",
    "\\left( %左括号\n",
    "\\begin{array}{ccc} \n",
    "a_{11} & a_{12} & a_{13}\\\\ %第一行元素\n",
    "a_{21} & a_{22} & a_{23}\\\\ %第二行元素\n",
    "a_{31} & a_{32} & a_{33}\\\\ %第三行元素\n",
    "\\end{array}\n",
    "\\right) %右括号\n",
    "$$\n",
    "\n",
    "$a_{ij}$ 表示第i行第j列"
   ]
  },
  {
   "cell_type": "markdown",
   "metadata": {},
   "source": [
    "## 2. 矩阵的加法\n",
    "$$\n",
    "A = \n",
    "\\left( %左括号\n",
    "\\begin{array}{ccc} \n",
    "a_{11} & a_{12} & ... & a_{1c}\\\\ \n",
    "a_{21} & a_{22} & ... & a_{2c}\\\\\n",
    "... & ... & ... & ...\\\\\n",
    "a_{r1} & a_{r2} & ... & a_{rc}\\\\ \n",
    "\\end{array}\n",
    "\\right) %右括号\n",
    "$$    \n",
    "$$\n",
    "B = \n",
    "\\left( %左括号\n",
    "\\begin{array}{ccc} \n",
    "b_{11} & b_{12} & ... & b_{1c}\\\\ \n",
    "b_{21} & b_{22} & ... & b_{2c}\\\\\n",
    "... & ... & ... & ...\\\\\n",
    "b_{r1} & b_{r2} & ... & b_{rc}\\\\ \n",
    "\\end{array}\n",
    "\\right) %右括号\n",
    "$$"
   ]
  },
  {
   "cell_type": "markdown",
   "metadata": {},
   "source": [
    "$$\n",
    "A + B = \n",
    "\\left( %左括号\n",
    "\\begin{array}{ccc} \n",
    "a_{11} + b_{11} & a_{12} + b_{12} & ... & a_{1c} + b_{1c}\\\\ \n",
    "a_{21} + b_{21} & a_{22} + b_{22} & ... & a_{2c} + b_{2c}\\\\\n",
    "... & ... & ... & ...\\\\\n",
    "a_{r1} + b_{r1} & a_{r2} + b_{r2} & ... & a_{rc} + b_{rc}\\\\ \n",
    "\\end{array}\n",
    "\\right) %右括号\n",
    "$$"
   ]
  },
  {
   "cell_type": "markdown",
   "metadata": {},
   "source": [
    "## 3. 矩阵的数量乘法\n",
    "$$\n",
    "A = \n",
    "\\left( %左括号\n",
    "\\begin{array}{ccc} \n",
    "a_{11} & a_{12} & ... & a_{1c}\\\\ \n",
    "a_{21} & a_{22} & ... & a_{2c}\\\\\n",
    "... & ... & ... & ...\\\\\n",
    "a_{r1} & a_{r2} & ... & a_{rc}\\\\ \n",
    "\\end{array}\n",
    "\\right) %右括号\n",
    "$$\n",
    "\n",
    "$$\n",
    "k \\cdot A = \n",
    "\\left( %左括号\n",
    "\\begin{array}{ccc} \n",
    "ka_{11} & ka_{12} & ... & ka_{1c}\\\\ \n",
    "ka_{21} & ka_{22} & ... & ka_{2c}\\\\\n",
    "... & ... & ... & ...\\\\\n",
    "ka_{r1} & ka_{r2} & ... & ka_{rc}\\\\ \n",
    "\\end{array}\n",
    "\\right) %右括号\n",
    "$$ "
   ]
  },
  {
   "cell_type": "markdown",
   "metadata": {},
   "source": [
    "## 4. 矩阵运算的基本性质\n",
    "\n",
    "$$\n",
    "A + B = B + A  \n",
    "$$\n",
    "\n",
    "$$\n",
    "(A + B) + C = A + (B + C)\n",
    "$$\n",
    "\n",
    "$$\n",
    "(ck)A = c(kA)\n",
    "$$\n",
    "\n",
    "$$\n",
    "k \\cdot (A + B) = k \\cdot A + k \\cdot B\n",
    "$$\n",
    "\n",
    "$$\n",
    "(c + k) \\cdot A = c \\cdot A + k \\cdot A\n",
    "$$"
   ]
  },
  {
   "cell_type": "markdown",
   "metadata": {},
   "source": [
    "## 5. 矩阵和向量的乘法\n",
    "矩阵A的列数必须和向量u的元素个数一致， 矩阵A的行数没有限制。   \n",
    "可以把一个矩阵看成向量的函数，完成了一个向量到另一个向量的映射。\n",
    "![2.png](attachment:2.png)"
   ]
  },
  {
   "cell_type": "markdown",
   "metadata": {},
   "source": [
    "$$\n",
    "\\begin{pmatrix}\n",
    "a_{11} & a_{12} & ... & a_{1n}\\\\ \n",
    "a_{21} & a_{22} & ... & a_{2n}\\\\\n",
    "... & ... & ... & ...\\\\\n",
    "a_{m1} & a_{m2} & ... & a_{mn}\\\\ \n",
    "\\end{pmatrix}\n",
    "\\cdot\n",
    "\\begin{pmatrix}\n",
    "u_{1}\\\\ \n",
    "u_{2}\\\\\n",
    "... \\\\\n",
    "u_{n}\\\\ \n",
    "\\end{pmatrix}\n",
    "=\n",
    "\\begin{pmatrix}\n",
    "a_{11} \\cdot u_{1} & a_{12} \\cdot u_{2} & ... & a_{1n} \\cdot u_{n}\\\\ \n",
    "a_{21} \\cdot u_{1} & a_{22} \\cdot u_{2} & ... & a_{2n} \\cdot u_{n}\\\\\n",
    "... & ... & ... & ...\\\\\n",
    "a_{m1} \\cdot u_{1} & a_{m2} \\cdot u_{2} & ... & a_{mn} \\cdot u_{n}\\\\\n",
    "\\end{pmatrix}\n",
    "$$"
   ]
  },
  {
   "cell_type": "markdown",
   "metadata": {},
   "source": [
    "$$\n",
    "\\begin{pmatrix}\n",
    "-- \\vec r_{1} --\\\\ \n",
    "-- \\vec r_{2} --\\\\\n",
    "... \\\\\n",
    "-- \\vec r_{n} --\\\\ \n",
    "\\end{pmatrix}\n",
    "\\cdot\n",
    "\\vec u\n",
    "=\n",
    "\\begin{pmatrix}\n",
    "\\vec r_1 \\cdot \\vec u_{1}\\\\ \n",
    "\\vec r_2 \\cdot \\vec u_{2}\\\\\n",
    "... \\\\\n",
    "\\vec r_n \\cdot u_{n}\\\\\n",
    "\\end{pmatrix}\n",
    "$$"
   ]
  },
  {
   "cell_type": "markdown",
   "metadata": {},
   "source": [
    "## 5. 矩阵和矩阵的乘法\n",
    "矩阵A的列数必须和矩阵B的行数一致：$A_{mk} \\cdot B_{kn} = C_{mn}$\n",
    "![3.png](attachment:3.png)"
   ]
  },
  {
   "cell_type": "markdown",
   "metadata": {},
   "source": [
    "$$\n",
    "A \\cdot B = A \\cdot \n",
    "\\begin{pmatrix}\n",
    "| & | &  ... & |\\\\\n",
    "\\vec c_{1} & \\vec c_{2} & ... &\\vec c_{n} \\\\ \n",
    "| & | &  ... & |\\\\\n",
    "\\end{pmatrix}\n",
    "= \n",
    "\\begin{pmatrix}\n",
    "| & | &  ... & |\\\\\n",
    "A \\cdot \\vec c_{1} & A \\cdot\\vec c_{2} & ... &A \\cdot \\vec c_{n} \\\\ \n",
    "| & | &  ... & |\\\\\n",
    "\\end{pmatrix}\n",
    "$$"
   ]
  },
  {
   "cell_type": "markdown",
   "metadata": {},
   "source": [
    "$$\n",
    "\\begin{pmatrix}\n",
    "-- \\vec r_{1} --\\\\ \n",
    "-- \\vec r_{2} --\\\\\n",
    "... \\\\\n",
    "-- \\vec r_{n} --\\\\ \n",
    "\\end{pmatrix}\n",
    "\\cdot\n",
    "\\begin{pmatrix}\n",
    "| & | &  ... & |\\\\\n",
    "\\vec c_{1} & \\vec c_{2} & ... &\\vec c_{n} \\\\ \n",
    "| & | &  ... & |\\\\\n",
    "\\end{pmatrix}\n",
    "=\n",
    "\\begin{pmatrix}\n",
    "\\vec r_1 \\cdot \\vec c_{1} & \\vec r_1 \\cdot \\vec c_{2} ... & \\vec r_1 \\cdot \\vec c_{n}\\\\ \n",
    "\\vec r_2 \\cdot \\vec c_{1} & \\vec r_2 \\cdot \\vec c_{2} ... & \\vec r_2 \\cdot \\vec c_{n}\\\\\n",
    "... ... \\\\\n",
    "\\vec r_m \\cdot c_{1} & \\vec r_m \\cdot c_{2} ... & \\vec r_m \\cdot \\vec c_{n}\\\\\n",
    "\\end{pmatrix}\n",
    "$$"
   ]
  },
  {
   "cell_type": "markdown",
   "metadata": {},
   "source": [
    "## 6. 矩阵乘法的性质\n",
    "1. 矩阵的乘法不遵守交换律 $A \\cdot B \\neq B \\cdot A $\n",
    "2. $(A \\cdot B) \\cdot C = A \\cdot (B \\cdot C) $\n",
    "3. $A \\cdot (B + C) = A \\cdot B + A \\cdot C $\n",
    "4. $(B + C) \\cdot A = B \\cdot A + C \\cdot A $\n",
    "5. 对于任意 $r * c$的矩阵$A$， 存在$c * x$的矩阵$O$，满足：$A \\cdot O_{cx} = O_{rx}$\n",
    "6. 对于任意 $r * c$的矩阵$A$， 存在$x * r$的矩阵$O$，满足：$ O_{xr} \\cdot A = O_{xo}$"
   ]
  },
  {
   "cell_type": "markdown",
   "metadata": {},
   "source": [
    "## 7. 矩阵的幂\n",
    "只有方阵才可以进行幂运算: $A^k = A \\cdot A \\cdot ... \\cdot A$, $k$个$A$相乘。"
   ]
  },
  {
   "cell_type": "markdown",
   "metadata": {},
   "source": [
    "## 8.矩阵的转置\n",
    "把矩阵的行变成列，列变成行。\n",
    "$$\n",
    "P = \n",
    "\\begin{pmatrix} \n",
    "0 & 1 \\\\ \n",
    "2 & 3 \\\\ \n",
    "4 & 5 \\\\ \n",
    "\\end{pmatrix}\n",
    "$$\n",
    "\n",
    "$$\n",
    "P^T = \n",
    "\\begin{pmatrix} \n",
    "0 & 2 & 4 \\\\ \n",
    "1 & 3 & 5 \\\\ \n",
    "\\end{pmatrix}\n",
    "$$"
   ]
  },
  {
   "cell_type": "markdown",
   "metadata": {},
   "source": [
    "性质：\n",
    "1. $(A^T)^T = A$\n",
    "2. $(A + B)^T = A^T + B^T$\n",
    "3. $(k \\cdot A)^T = k \\cdot A^T$\n",
    "4. $(A \\cdot B)^T = B^T \\cdot A^T$"
   ]
  },
  {
   "cell_type": "markdown",
   "metadata": {},
   "source": [
    "## 9. 单位矩阵\n",
    "$I \\cdot A = A$， $I$为单位矩阵。  \n",
    "单位矩阵一定是方阵。\n",
    "$$\n",
    "I_n = \n",
    "\\begin{pmatrix} \n",
    "1 & 0 & ... & 0\\\\ \n",
    "0 & 1 & ... & 0\\\\\n",
    "... & ... & ... & ...\\\\\n",
    "0 & 0 & ... & 1\\\\ \n",
    "\\end{pmatrix}\n",
    "$$\n",
    "\n",
    "$$\n",
    "I_n = (i_{kj})\n",
    "\\left\\{ \n",
    "    \\begin{array}{lr}\n",
    "    1 , & (k = j) \\\\\n",
    "    0 , & (k \\neq j) &\n",
    "    \\end{array}\n",
    "\\right. \n",
    "$$"
   ]
  },
  {
   "cell_type": "markdown",
   "metadata": {},
   "source": [
    "$$\n",
    "\\begin{pmatrix} \n",
    "1 & 0 \\\\ \n",
    "0 & 1 \\\\ \n",
    "\\end{pmatrix}\n",
    "\\cdot\n",
    "\\begin{pmatrix} \n",
    "a & b & c \\\\ \n",
    "d & e & f \\\\ \n",
    "\\end{pmatrix}\n",
    "=\n",
    "\\begin{pmatrix} \n",
    "a & b & c \\\\ \n",
    "d & e & f \\\\ \n",
    "\\end{pmatrix}\n",
    "$$"
   ]
  },
  {
   "cell_type": "markdown",
   "metadata": {},
   "source": [
    "## 10. 逆矩阵\n",
    "回忆：数字系统中, $x \\cdot (x^{-1}) = 1$   \n",
    "在矩阵中， $AB = BA = I$, 则称$B$是$A$的逆矩阵，记作：$B = A^{-1}$。$A^0 = I$。        \n",
    "A称为可逆矩阵，或者叫**非奇异**矩阵。   \n",
    "有些矩阵是不可逆的，称为**奇异**矩阵。"
   ]
  },
  {
   "cell_type": "markdown",
   "metadata": {},
   "source": [
    "如果$BA = I$, 则称$B$是$A$的左逆矩阵。   \n",
    "如果$AC = I$, 则称$C$是$A$的右逆矩阵。   \n",
    "如果一个矩阵$A$既存在左逆矩阵$B$,又存在右逆矩阵$C$，则$B=C$。  \n",
    "可逆矩阵一定为方阵！   \n",
    "非方阵一定不可逆！"
   ]
  },
  {
   "cell_type": "markdown",
   "metadata": {},
   "source": [
    "## 11. 矩阵逆的性质\n",
    "1. 对于矩阵$A$，如果存在逆矩阵$B$，则$B$唯一。(可以用反证法证明)\n",
    "2. $(A^{-1})^{-1} = A$\n",
    "3. $(A \\cdot B)^{-1} = B^{-1}A^{-1}$\n",
    "4. $(A^T)^{-1} = (A^{-1})^T$"
   ]
  },
  {
   "cell_type": "markdown",
   "metadata": {},
   "source": [
    "## 12. 看待矩阵的四个重要视角\n",
    "1. 数据表  \n",
    "\n",
    "name | age\n",
    "---- | ---\n",
    "LearnShare | 12\n",
    "Mike |  32\n",
    "\n",
    "2. 线性系统\n",
    "$$\n",
    "\\begin{cases}\n",
    "2x_1 + x_2 = 1\\\\\\\\\n",
    "\\frac{1}{10}x_1+6x_2= 5\n",
    "\\end{cases}\n",
    "$$\n",
    "\n",
    "$$\n",
    "\\begin{bmatrix}\n",
    "    2 & 1 \\\\\\\\\n",
    "    1/10 & 6 \n",
    "\\end{bmatrix}\n",
    "\\cdot\n",
    "\\begin{bmatrix}\n",
    "    x_1 \\\\\\\\\n",
    "    x_2\n",
    "\\end{bmatrix}\n",
    "=\n",
    "\\begin{bmatrix}\n",
    "    1 \\\\\\\\\n",
    "    5\n",
    "\\end{bmatrix}\n",
    "$$\n",
    "3. 变换（向量的函数）: $T \\cdot \\vec a = \\vec b$\n",
    "4. 空间\n",
    "![4.png](attachment:4.png)"
   ]
  },
  {
   "cell_type": "markdown",
   "metadata": {},
   "source": [
    "## 13. 线性系统和矩阵\n",
    "线性方程：未知数x只能是一次方。$ax + b = y$，$x+y+3z = 0$。   \n",
    "线性方程组组成了线性系统：\n",
    "$\n",
    "\\begin{cases}\n",
    "2x_1 + x_2 = 1\\\\\\\\\n",
    "10x_1+6x_2= 5\n",
    "\\end{cases}\n",
    "$"
   ]
  },
  {
   "cell_type": "markdown",
   "metadata": {},
   "source": [
    "### 13.1 消元法\n",
    "$\n",
    "\\begin{cases}\n",
    "2x_1 + x_2 = 1\\\\\\\\\n",
    "10x_1+6x_2= 5\n",
    "\\end{cases}\n",
    "=>\n",
    "\\begin{cases}\n",
    "12x_1 + 6x_2 = 6\\\\\\\\\n",
    "10x_1+6x_2= 5\n",
    "\\end{cases}\n",
    "=>\n",
    "2x_1 = 1\n",
    "=>\n",
    "x_1 = 0.5\n",
    "$"
   ]
  },
  {
   "cell_type": "markdown",
   "metadata": {},
   "source": [
    "### 13.2 高斯消元法\n",
    "利用增广矩阵  \n",
    " \n",
    "$$\n",
    "\\begin{bmatrix}\n",
    "    2 & 1 & | & 1\\\\\\\\\n",
    "    10 & 6 & | & 5\n",
    "\\end{bmatrix}\n",
    "=> \n",
    "\\begin{bmatrix}\n",
    "    12 & 6 & | & 6\\\\\\\\\n",
    "    10 & 6 & | & 5\n",
    "\\end{bmatrix}\n",
    "=> \n",
    "\\begin{bmatrix}\n",
    "    2 & 0 & | & 1\\\\\\\\\n",
    "    10 & 6 & | & 5\n",
    "\\end{bmatrix}\n",
    "=> \n",
    "\\begin{bmatrix}\n",
    "    1 & 0 & | & 0.5\\\\\\\\\n",
    "    10 & 6 & | & 5\n",
    "\\end{bmatrix}\n",
    "=> \n",
    "\\begin{bmatrix}\n",
    "    1 & 0 & | & 0.5\\\\\\\\\n",
    "    0 & 1 & | & 0\n",
    "\\end{bmatrix}\n",
    "$$"
   ]
  },
  {
   "cell_type": "markdown",
   "metadata": {},
   "source": [
    "### 13.3求矩阵的逆\n",
    "已知 $AA^{-1}= I$，把$A^{-1}$ 看成 \n",
    "$\n",
    "\\begin{bmatrix}\n",
    "    x1 & x2 \\\\\\\\\n",
    "    x3 & x4 \n",
    "\\end{bmatrix}\n",
    "$,  \n",
    "\n",
    "\n",
    "那么求解过程为：\n",
    "$\n",
    "\\begin{bmatrix}\n",
    "    2 & 1 & | & 1 & 0\\\\\\\\\n",
    "    10 & 6 & | & 0 & 1\n",
    "\\end{bmatrix}\n",
    "=> \n",
    "\\begin{bmatrix}\n",
    "    1 & 0 & | & x1 & x2\\\\\\\\\n",
    "    0 & 1 & | & x3 & x4\n",
    "\\end{bmatrix}\n",
    "$,   \n",
    "\n",
    "\n",
    "即：$(A | I) => (I | A^{-1})$"
   ]
  },
  {
   "cell_type": "markdown",
   "metadata": {},
   "source": [
    "### 13.4 使用矩阵的逆求解\n",
    "假设 $A^{−1}$ 存在，则 $Ax=b$ 的解 $x=A^{−1}b$\n",
    "$$\n",
    "\\begin{bmatrix}\n",
    "    x_1 \\\\\\\\\n",
    "    x_2\n",
    "\\end{bmatrix}\n",
    "=\n",
    "\\begin{bmatrix}\n",
    "    2 & 1 \\\\\\\\\n",
    "    1/10 & 6 \n",
    "\\end{bmatrix}^{-1}\n",
    "\\cdot\n",
    "\\begin{bmatrix}\n",
    "    1 \\\\\\\\\n",
    "    5\n",
    "\\end{bmatrix}\n",
    "$$"
   ]
  },
  {
   "cell_type": "markdown",
   "metadata": {},
   "source": [
    "## 14. 初等矩阵\n",
    "**对单位矩阵进行一次初等变换，得到初等矩阵。**   \n",
    "**高斯消元法的过程可以看成寻找一系列的初等矩阵E，使得：$E_p \\cdot ... \\cdot E_3 \\cdot E_2 \\cdot E_1 \\cdot A = rref(A)$**\n",
    "1. 矩阵中的某一行乘以一个常数：\n",
    "$$\n",
    "\\begin{pmatrix} \n",
    "k & 0 & 0 \\\\ \n",
    "0 & 1 & 0 \\\\ \n",
    "0 & 0 & 1 \\\\\n",
    "\\end{pmatrix}\n",
    "\\cdot\n",
    "\\begin{pmatrix} \n",
    "0 & 1 \\\\ \n",
    "2 & 3 \\\\ \n",
    "4 & 5 \\\\ \n",
    "\\end{pmatrix}\n",
    "=\n",
    "\\begin{pmatrix} \n",
    "0 & k \\\\ \n",
    "2 & 3 \\\\ \n",
    "4 & 5 \\\\ \n",
    "\\end{pmatrix}\n",
    "$$\n",
    "2. 矩阵的一行加（减）另一行的若干倍\n",
    "$$\n",
    "\\begin{pmatrix} \n",
    "1 & 0 & 0 \\\\ \n",
    "0 & 1 & -p \\\\ \n",
    "0 & 0 & 1 \\\\\n",
    "\\end{pmatrix}\n",
    "\\cdot\n",
    "\\begin{pmatrix} \n",
    "0 & 1 \\\\ \n",
    "2 & 3 \\\\ \n",
    "4 & 5 \\\\ \n",
    "\\end{pmatrix}\n",
    "=\n",
    "\\begin{pmatrix} \n",
    "0 & 1 \\\\ \n",
    "2-4p & 3-5p \\\\ \n",
    "4 & 5 \\\\ \n",
    "\\end{pmatrix}\n",
    "$$\n",
    "3. 交换矩阵的两行\n",
    "$$\n",
    "\\begin{pmatrix} \n",
    "1 & 0 & 0 \\\\ \n",
    "0 & 0 & 1 \\\\ \n",
    "0 & 1 & 0 \\\\\n",
    "\\end{pmatrix}\n",
    "\\cdot\n",
    "\\begin{pmatrix} \n",
    "0 & 1 \\\\ \n",
    "2 & 3 \\\\ \n",
    "4 & 5 \\\\ \n",
    "\\end{pmatrix}\n",
    "=\n",
    "\\begin{pmatrix} \n",
    "0 & 1 \\\\ \n",
    "4 & 5 \\\\ \n",
    "2 & 3 \\\\ \n",
    "\\end{pmatrix}\n",
    "$$"
   ]
  },
  {
   "cell_type": "markdown",
   "metadata": {},
   "source": [
    "## 15. 初等矩阵和可逆性\n",
    "由于初等矩阵是对单位矩阵进行一次初等变换得到的，单位矩阵是可逆的，初等变换是可逆的，所以初等矩阵页数可逆的。"
   ]
  },
  {
   "cell_type": "markdown",
   "metadata": {},
   "source": [
    "![5.png](attachment:5.png)"
   ]
  },
  {
   "cell_type": "markdown",
   "metadata": {},
   "source": [
    "#### 证明：\n",
    "1. 对于方阵$A$ ，如果$A$可逆，那么线性系统$Ax=0$只有唯一解,$x=0$。  \n",
    "证明：\n",
    "$\n",
    "A \\cdot x = O \\\\ \n",
    "A^{-1} \\cdot A \\cdot x = A^{-1} \\cdot O \\\\\n",
    "I \\cdot x = O \\\\\n",
    "x = O\n",
    "$  \n",
    "   \n",
    "2. 线性系统$Ax=0$只有唯一解,$x=0$， 那么reef(A) = I   \n",
    "证明：\n",
    "假设A为$n*n$矩阵, $Ax=0$有唯一解，则有$n$个未知数，且$rref(A)$有$n$个非零行。   \n",
    "根据行最简形式的定义，$rref(A)=I$\n",
    "  \n",
    "3. 若$rref(A)=I$， 则A可以表示成一系列初等矩阵的乘积。\n",
    "证明：   \n",
    "$E_p \\cdot ... \\cdot E_3 \\cdot E_2 \\cdot E_1 \\cdot A = rref(A)=I$      \n",
    "$(E^{-1}_1 \\cdot E^{-1}_2 \\cdot E^{-1}_3 \\cdot ... \\cdot E^{-1}_p ) \\cdot E_p \\cdot ... \\cdot E_3 \\cdot E_2 \\cdot E_1 \\cdot A = \n",
    "(E^{-1}_1 \\cdot E^{-1}_2 \\cdot E^{-1}_3 \\cdot ... \\cdot E^{-1}_p ) \\cdot rref(A)$   \n",
    "$I \\cdot A = (E^{-1}_1 \\cdot E^{-1}_2 \\cdot E^{-1}_3 \\cdot ... \\cdot E^{-1}_p ) \\cdot I$  \n",
    "$A = E^{-1}_1 \\cdot E^{-1}_2 \\cdot E^{-1}_3 \\cdot ... \\cdot E^{-1}_p $\n",
    "   \n",
    "4. A可以表示成一系列初等矩阵的乘积, A可逆。   \n",
    "$A = E_1 \\cdot E_2 \\cdot E_3 \\cdot ... \\cdot E_p $  \n",
    "$B = E^{-1}_p \\cdot ... \\cdot E^{-1}_3 \\cdot E^{-1}_3 \\cdot E^{-1}_1 $   \n",
    "$A \\cdot B = I$   \n",
    "$B = (E_1 \\cdot E_2 \\cdot E_3 \\cdot ... \\cdot E_p)^{-1} $  \n",
    "$B \\cdot A = ((BA)^{-1})^{-1} =  (A^{-1} \\cdot B^{-1})^{-1}$  "
   ]
  },
  {
   "cell_type": "markdown",
   "metadata": {},
   "source": [
    "## 16. 线性组合\n",
    "对于若干个n维向量 $\\vec v_1, \\vec v_2, \\vec v_3, ..., \\vec v_p$，\n",
    "$k_1 \\vec v_1 + k_2 \\vec v_2 + k_3 \\vec v_3 + ... + k_p \\vec v_p$ 称为这些向量的线性组合。\n",
    "![6.png](attachment:6.png)"
   ]
  },
  {
   "cell_type": "markdown",
   "metadata": {},
   "source": [
    "## 17. 线性相关和线性无关\n",
    "对于若干个n维向量 $\\vec v_1, \\vec v_2, \\vec v_3, ..., \\vec v_p$，存在一组k不全为0，\n",
    "使得$k_1 \\vec v_1 + k_2 \\vec v_2 + k_3 \\vec v_3 + ... + k_p \\vec v_p = 0$ ，\n",
    "则称$\\vec v_1, \\vec v_2, \\vec v_3, ..., \\vec v_p$线性相关。\n",
    "\n",
    "=> **其中一个**向量可以写成其他向量的线性组合。"
   ]
  },
  {
   "cell_type": "markdown",
   "metadata": {},
   "source": [
    "对于若干个n维向量 $\\vec v_1, \\vec v_2, \\vec v_3, ..., \\vec v_p$，只有全为0时，\n",
    "$k_1 \\vec v_1 + k_2 \\vec v_2 + k_3 \\vec v_3 + ... + k_p \\vec v_p = 0$ ，\n",
    "则称$\\vec v_1, \\vec v_2, \\vec v_3, ..., \\vec v_p$线性无关。\n",
    "\n",
    "=> **任何一个**向量都不可以表示成其他向量的线性组合。\n",
    "![7.png](attachment:7.png)"
   ]
  },
  {
   "cell_type": "markdown",
   "metadata": {},
   "source": [
    "### 17. 线性相关的重要性质\n",
    "1. m个n维向量$\\vec v_1, \\vec v_2, \\vec v_3, ..., \\vec v_m$，若m>n，则$\\vec v_1, \\vec v_2, \\vec v_3, ..., \\vec v_m$线性相关。  \n",
    "举例：100个三维向量一定线性相关。\n",
    "![8.png](attachment:8.png)\n",
    "  \n",
    "2. $n*n$的方阵A，其列向量由$\\vec v_1, \\vec v_2, \\vec v_3, ..., \\vec v_n$组成，即：$A=(\\vec v_1 \\vec v_2  \\vec v_3 ... \\vec v_n)$,\n",
    "则：A可逆 <=> $\\vec v_1, \\vec v_2, \\vec v_3, ..., \\vec v_n$ 线性无关。\n",
    "![9.png](attachment:9.png)"
   ]
  },
  {
   "cell_type": "markdown",
   "metadata": {},
   "source": [
    "## 18. 生成空间\n",
    "![10.png](attachment:10.png)"
   ]
  },
  {
   "cell_type": "markdown",
   "metadata": {},
   "source": [
    "思考：*最少几个向量生成二维空间？*  \n",
    "一个向量只能生成这条直线上的其他向量  \n",
    "二位空间中的3个向量肯定是现行相关的。  \n",
    "所以？"
   ]
  },
  {
   "cell_type": "markdown",
   "metadata": {},
   "source": [
    "**对于一个n维空间，至少需要n个向量才能够生成。**\n",
    "\n",
    "n个向量何时才成整个空间？"
   ]
  },
  {
   "cell_type": "markdown",
   "metadata": {},
   "source": [
    "## 19. 空间的基\n",
    "若一组向量可以生成整个n维空间，且线性无关，这组向量一定有n个，称这组向量为这个n维空间的一组基。  \n",
    "  \n",
    "n个n维向量$\\vec v_1, \\vec v_2, \\vec v_3, ..., \\vec v_n$,若他们是这个n维空间的基：  \n",
    "1. $\\vec v_1, \\vec v_2, \\vec v_3, ..., \\vec v_n$生成整个n维空间。  \n",
    "2. $\\vec v_1, \\vec v_2, \\vec v_3, ..., \\vec v_n$线性无关。\n",
    "\n",
    "![11.png](attachment:11.png)\n",
    "\n",
    "在n维空间中，如果给定一组基，任何一个向量（或者是点）都可以表示成这组基的线性组合，**且表示方法唯一**。"
   ]
  },
  {
   "cell_type": "markdown",
   "metadata": {},
   "source": [
    "## 20. 正交基和标准正交基\n",
    "正交：垂直   \n",
    "$\\vec u \\cdot \\vec v = u_1 \\cdot v_1 + u_2 \\cdot v_2 + ... + u_n \\cdot v_n = ||\\vec u|| \\cdot ||\\vec v|| \\cdot cos \\theta$  \n",
    "当 $\\theta=90{\\circ}$， $cos\\theta = 0$，\n",
    "$ \\vec u \\cdot \\vec v = 0$   \n",
    "  \n",
    "两个向量相互垂直，两个向量相互正交。\n",
    "\n",
    "正交向量组：一组向量，如果两两正交，则称为正交向量组。  \n",
    "正交非零向量组一定线性无关。  \n",
    "![12.png](attachment:12.png)"
   ]
  },
  {
   "cell_type": "markdown",
   "metadata": {},
   "source": [
    "**如果空间中的一组基两两正交，则称这组基为一组正交基。**  \n",
    "**标准正交基的模是1。**  \n",
    "一个空间中的标准正交基也有无数组。"
   ]
  },
  {
   "cell_type": "markdown",
   "metadata": {},
   "source": [
    "## 21. 行列式\n",
    "https://zh.wikipedia.org/wiki/%E8%A1%8C%E5%88%97%E5%BC%8F   \n",
    "  \n",
    "行列式是**方阵**的一个属性。  \n",
    "![16.png](attachment:16.png)\n",
    "\n",
    "每组基之间的**有向**面积（或 体）来表示。\n",
    "\n",
    "![17.png](attachment:17.png)"
   ]
  },
  {
   "cell_type": "markdown",
   "metadata": {},
   "source": [
    "#### 有向\n",
    "$\n",
    "\\begin{vmatrix}\n",
    "    a & b \\\\\n",
    "    c & d \n",
    "\\end{vmatrix}\n",
    "=\n",
    "ad - bc\n",
    "$\n",
    "\n",
    "$\n",
    "\\begin{vmatrix}\n",
    "    c & d \\\\\n",
    "    a & b \n",
    "\\end{vmatrix}\n",
    "=\n",
    "bc - ad\n",
    "$\n",
    "\n",
    "$\n",
    "\\begin{vmatrix}\n",
    "    a & b \\\\\n",
    "    c & d \n",
    "\\end{vmatrix}\n",
    "=\n",
    "-\\begin{vmatrix}\n",
    "    c & d \\\\\n",
    "    a & b \n",
    "\\end{vmatrix}\n",
    "$"
   ]
  },
  {
   "cell_type": "markdown",
   "metadata": {},
   "source": [
    "## 22. 特征值和特征向量\n",
    "![13.png](attachment:13.png)\n",
    "\n",
    "$A \\vec u = \\lambda \\vec u$  \n",
    "$\\lambda$称为A的特征值，   \n",
    "$\\vec u$称为对应于$\\lambda$的特征向量。"
   ]
  },
  {
   "cell_type": "markdown",
   "metadata": {},
   "source": [
    "### 22.1 求解特征值和特征向量\n",
    "注意：零向量肯定能满足，是平凡解，所以特征向量不考虑零向量。   \n",
    "思考：$\\lambda = 0$的时候呢？   \n",
    "$A \\vec u = 0$有非零解，所以$\\lambda = 0$不通用，特征值可以为0.\n",
    "   \n",
    " => $A \\vec u = \\lambda \\vec u$  \n",
    " => $A \\vec u - \\lambda \\vec u = 0$   \n",
    " => $A \\vec u - \\lambda I \\vec u = 0$   \n",
    " => $(A  - \\lambda I ) u = 0$  \n",
    " => 有非零解\n",
    " => $det(A  - \\lambda I ) = 0$\n",
    " \n",
    "![14.png](attachment:14.png)\n",
    "\n",
    "![15.png](attachment:15.png)"
   ]
  },
  {
   "cell_type": "markdown",
   "metadata": {},
   "source": [
    "## 23. 对称矩阵\n",
    "$$A = A^T$$\n",
    "![18.png](attachment:18.png)"
   ]
  },
  {
   "cell_type": "markdown",
   "metadata": {},
   "source": [
    "## 24. 矩阵的相似性\n",
    "如果矩阵$A$，$B$满足$A = P^{-1}BP$，则称$A$和$B$相似。=》$B = P^{-1}AP$\n",
    "![19.png](attachment:19.png)\n",
    "观察$B$变换是在标准坐标系下，观察$A$变换是在$P$矩阵定义的坐标下，观察同一个矩阵，在不用坐标系下得到的结果也是不同的。\n",
    "![20.png](attachment:20.png)\n",
    "\n",
    "**$A$和$B$的特征方程相同、特征值相同。**\n",
    "![21.png](attachment:21.png)"
   ]
  },
  {
   "cell_type": "markdown",
   "metadata": {},
   "source": [
    "## 25. 矩阵的对角化\n",
    "用最好的角度观察矩阵变换。\n",
    "\n",
    "$A = PDP^{-1}$在p坐标系下观察A变换，得到$D$，$D$是一个对角矩阵。  \n",
    "如果$A$有$n$个线性无关的特征向量，则$A$和某个$D$相似。   \n",
    "\n",
    "$$\n",
    "D = \n",
    "\\begin{pmatrix} \n",
    "\\lambda_0 & 0 & ... & 0\\\\ \n",
    "0 & \\lambda_1 & ... & 0\\\\\n",
    "... & ... & ... & ...\\\\\n",
    "0 & 0 & ... & \\lambda_n\\\\ \n",
    "\\end{pmatrix}\n",
    "\\\\\\\\\n",
    "P=\n",
    "\\begin{pmatrix}\n",
    "| & | &  ... & |\\\\\n",
    "\\vec u_{1} & \\vec u_{2} & ... &\\vec u_{n} \\\\ \n",
    "| & | &  ... & |\\\\\n",
    "\\end{pmatrix}\n",
    "$$\n",
    "\n",
    "证明：\n",
    "![22.png](attachment:22.png)"
   ]
  }
 ],
 "metadata": {
  "kernelspec": {
   "display_name": "Python 3",
   "language": "python",
   "name": "python3"
  },
  "language_info": {
   "codemirror_mode": {
    "name": "ipython",
    "version": 3
   },
   "file_extension": ".py",
   "mimetype": "text/x-python",
   "name": "python",
   "nbconvert_exporter": "python",
   "pygments_lexer": "ipython3",
   "version": "3.6.7"
  }
 },
 "nbformat": 4,
 "nbformat_minor": 2
}
