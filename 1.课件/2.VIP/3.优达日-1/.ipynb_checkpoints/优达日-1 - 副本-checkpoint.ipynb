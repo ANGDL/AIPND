{
 "cells": [
  {
   "cell_type": "markdown",
   "metadata": {},
   "source": [
    "# 优达日-1"
   ]
  },
  {
   "cell_type": "markdown",
   "metadata": {},
   "source": [
    "## 1. 循环和递归"
   ]
  },
  {
   "cell_type": "markdown",
   "metadata": {},
   "source": [
    "### 1.1 使用循环求阶乘"
   ]
  },
  {
   "cell_type": "code",
   "execution_count": null,
   "metadata": {},
   "outputs": [],
   "source": [
    "n = 10"
   ]
  },
  {
   "cell_type": "code",
   "execution_count": null,
   "metadata": {},
   "outputs": [],
   "source": [
    "def factorial_1(x):\n",
    "    ret = 1\n",
    "    for i in range(1, x+1):\n",
    "        ret *= i\n",
    "    return ret"
   ]
  },
  {
   "cell_type": "code",
   "execution_count": null,
   "metadata": {
    "scrolled": true
   },
   "outputs": [],
   "source": [
    "print('factorial_1 result:')\n",
    "%timeit ret = factorial_1(n)\n",
    "print('{}! = {}'.format(n, ret))"
   ]
  },
  {
   "cell_type": "markdown",
   "metadata": {},
   "source": [
    "### 1.2 使用递归求阶乘"
   ]
  },
  {
   "cell_type": "markdown",
   "metadata": {},
   "source": [
    "#### 优点：\n",
    "* 递归使代码看起来更加整洁、优雅\n",
    "* 可以用递归将复杂任务分解成更简单的子问题\n",
    "* 使用递归比使用一些嵌套迭代更容易  \n",
    "\n",
    "#### 缺点:\n",
    "\n",
    "* 递归的逻辑很难调试、跟进\n",
    "* 递归调用的代价高昂（效率低），因为占用了大量的内存和时间。"
   ]
  },
  {
   "cell_type": "markdown",
   "metadata": {},
   "source": [
    "$ret = x_n \\cdot x_{n-1} \\cdot \\ ...\\ \\cdot  x_1 $"
   ]
  },
  {
   "cell_type": "markdown",
   "metadata": {},
   "source": [
    "    factorial(5)                        # 第 1 次调用使用 5   \n",
    "    5 * factorial(4)                    # 第 2 次调用使用 4   \n",
    "    5 * (4 * factorial(3))              # 第 3 次调用使用 3  \n",
    "    5 * (4 * (3 * factorial(2)))        # 第 4 次调用使用 2    \n",
    "    5 * (4 * (3 * (2 * factorial(1))))  # 第 5 次调用使用 1    \n",
    "    5 * (4 * (3 * (2 * 1)))             # 从第 5 次调用返回  \n",
    "    5 * (4 * (3 * 2))                   # 从第 4 次调用返回  \n",
    "    5 * (4 * 6)                         # 从第 3次调用返回  \n",
    "    5 * 24                              # 从第 2 次调用返回  \n",
    "    120                                 # 从第 1 次调用返回"
   ]
  },
  {
   "cell_type": "code",
   "execution_count": null,
   "metadata": {},
   "outputs": [],
   "source": [
    "def factorial_2(x):\n",
    "    if x == 1:\n",
    "        return 1\n",
    "    else:\n",
    "        return x * factorial_2(x - 1)"
   ]
  },
  {
   "cell_type": "code",
   "execution_count": null,
   "metadata": {},
   "outputs": [],
   "source": [
    "print('factorial_2 result:')\n",
    "%timeit ret = factorial_2(n)\n",
    "print('{}! = {}'.format(n, ret))"
   ]
  },
  {
   "cell_type": "markdown",
   "metadata": {},
   "source": [
    "## 2 生成器"
   ]
  },
  {
   "cell_type": "code",
   "execution_count": 7,
   "metadata": {},
   "outputs": [],
   "source": [
    "def my_list(number):\n",
    "    ret = []\n",
    "    for i in range(number):\n",
    "        print('iter=',i)\n",
    "        ret.append(i)\n",
    "    return ret"
   ]
  },
  {
   "cell_type": "code",
   "execution_count": 8,
   "metadata": {},
   "outputs": [],
   "source": [
    "def my_generator(number):\n",
    "    while n < number:\n",
    "        print('iter=',n)\n",
    "        yield n\n",
    "    print('done!')"
   ]
  },
  {
   "cell_type": "code",
   "execution_count": 9,
   "metadata": {},
   "outputs": [
    {
     "name": "stdout",
     "output_type": "stream",
     "text": [
      "iter= 0\n",
      "iter= 1\n",
      "iter= 2\n",
      "iter= 3\n",
      "iter= 4\n"
     ]
    },
    {
     "data": {
      "text/plain": [
       "[0, 1, 2, 3, 4]"
      ]
     },
     "execution_count": 9,
     "metadata": {},
     "output_type": "execute_result"
    }
   ],
   "source": [
    "ret1 = my_list(5)\n",
    "ret1"
   ]
  },
  {
   "cell_type": "code",
   "execution_count": null,
   "metadata": {},
   "outputs": [],
   "source": [
    "ret2 = my_generator(5)\n",
    "ret2"
   ]
  },
  {
   "cell_type": "code",
   "execution_count": null,
   "metadata": {},
   "outputs": [],
   "source": [
    "next(ret2)"
   ]
  },
  {
   "cell_type": "markdown",
   "metadata": {},
   "source": [
    "### 生成器表达式"
   ]
  },
  {
   "cell_type": "code",
   "execution_count": null,
   "metadata": {},
   "outputs": [],
   "source": [
    "g = (x**2 for x in range(5))"
   ]
  },
  {
   "cell_type": "markdown",
   "metadata": {},
   "source": [
    "## 2. Immutable（不可变） vs. Mutable（可变）  \n",
    "\n",
    "Immutable: int, float, tuple, string – 值传递  \n",
    "Mutable: 其它 – 引用传递\n"
   ]
  },
  {
   "cell_type": "code",
   "execution_count": null,
   "metadata": {},
   "outputs": [],
   "source": [
    "def set_value(v):\n",
    "    # Immutable\n",
    "    if type(v) is str:\n",
    "        v = 'new str'\n",
    "    elif type(v) is int:\n",
    "        v = 666\n",
    "    elif type(v) is float:\n",
    "        v = 6.66\n",
    "    elif type(v) is tuple:\n",
    "        pass\n",
    "#         v[0] = 'new'\n",
    "    # Mutable\n",
    "    elif type(v) is dict:\n",
    "        v['old'] = 'new map'\n",
    "    elif type(v) is list:\n",
    "        v[0] = 'new'\n",
    "    elif type(v) is set:\n",
    "        v.add('new set')\n",
    "    else:\n",
    "        v = None"
   ]
  },
  {
   "cell_type": "code",
   "execution_count": null,
   "metadata": {},
   "outputs": [],
   "source": [
    "old_str = 'old str'\n",
    "old_int = '1'\n",
    "old_float = '1.0'\n",
    "old_tuple = 'old', 'tuple'\n",
    "old_map = {'old': 'map'}\n",
    "old_list = ['old', 'list']\n",
    "old_set = {'old, list'}\n",
    "\n",
    "set_value(old_str)\n",
    "set_value(old_int)\n",
    "set_value(old_float)\n",
    "set_value(old_tuple)\n",
    "set_value(old_map)\n",
    "set_value(old_list)\n",
    "set_value(old_set)\n",
    "\n",
    "print(old_str)\n",
    "print(old_int)\n",
    "print(old_float)\n",
    "print(old_tuple)\n",
    "print('#' * 20)\n",
    "print(old_map)\n",
    "print(old_list)\n",
    "print(old_set)"
   ]
  },
  {
   "cell_type": "markdown",
   "metadata": {},
   "source": [
    "## 3. filter() vs map()"
   ]
  },
  {
   "cell_type": "markdown",
   "metadata": {},
   "source": [
    "**filter(function, iterable)**      \n",
    "参数：  \n",
    "function -- 判断函数。  \n",
    "iterable -- 可迭代对象。   \n",
    "返回值：  \n",
    "返回一个满足function条件的迭代器对象  "
   ]
  },
  {
   "cell_type": "code",
   "execution_count": 2,
   "metadata": {},
   "outputs": [],
   "source": [
    "def odd_number(x):\n",
    "    return x % 2 != 0"
   ]
  },
  {
   "cell_type": "code",
   "execution_count": null,
   "metadata": {},
   "outputs": [],
   "source": [
    "l = list(range(10))\n",
    "odds = filter(odd_number, l)\n",
    "print(odds)"
   ]
  },
  {
   "cell_type": "code",
   "execution_count": null,
   "metadata": {},
   "outputs": [],
   "source": [
    "print(next(odds))\n",
    "print(list(odds))"
   ]
  },
  {
   "cell_type": "markdown",
   "metadata": {},
   "source": [
    "**map(function, iterable, ...)**   \n",
    "参数：  \n",
    "function -- 函数   \n",
    "iterable -- 一个或多个序列   \n",
    "返回值：  \n",
    "Python 2.x 返回function运行结果的列表。\n",
    "Python 3.x 返回function运行结果的迭代器。"
   ]
  },
  {
   "cell_type": "code",
   "execution_count": 3,
   "metadata": {},
   "outputs": [
    {
     "name": "stdout",
     "output_type": "stream",
     "text": [
      "<map object at 0x000001BF8BDA5AC8>\n"
     ]
    }
   ],
   "source": [
    "l = list(range(10))\n",
    "is_odd = map(odd_number, l)\n",
    "print(is_odd)"
   ]
  },
  {
   "cell_type": "code",
   "execution_count": 4,
   "metadata": {},
   "outputs": [
    {
     "name": "stdout",
     "output_type": "stream",
     "text": [
      "False\n",
      "[True, False, True, False, True, False, True, False, True]\n"
     ]
    }
   ],
   "source": [
    "print(next(is_odd))\n",
    "print(list(is_odd))"
   ]
  },
  {
   "cell_type": "code",
   "execution_count": 6,
   "metadata": {},
   "outputs": [
    {
     "name": "stdout",
     "output_type": "stream",
     "text": [
      "[0, 2, 4, 6, 8, 10, 12, 14, 16, 18]\n"
     ]
    }
   ],
   "source": [
    "def add_two_list(a, b):\n",
    "    return a + b\n",
    "\n",
    "l = list(range(10))\n",
    "s = map(add_two_list, l, l)\n",
    "print(list(s))"
   ]
  }
 ],
 "metadata": {
  "kernelspec": {
   "display_name": "Python 3",
   "language": "python",
   "name": "python3"
  },
  "language_info": {
   "codemirror_mode": {
    "name": "ipython",
    "version": 3
   },
   "file_extension": ".py",
   "mimetype": "text/x-python",
   "name": "python",
   "nbconvert_exporter": "python",
   "pygments_lexer": "ipython3",
   "version": "3.6.7"
  }
 },
 "nbformat": 4,
 "nbformat_minor": 2
}
