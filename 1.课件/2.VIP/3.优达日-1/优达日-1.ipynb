{
 "cells": [
  {
   "cell_type": "markdown",
   "metadata": {},
   "source": [
    "# 优达日-1"
   ]
  },
  {
   "cell_type": "markdown",
   "metadata": {},
   "source": [
    "## 1. 循环和递归"
   ]
  },
  {
   "cell_type": "markdown",
   "metadata": {},
   "source": [
    "### 1.1 使用循环求阶乘"
   ]
  },
  {
   "cell_type": "markdown",
   "metadata": {},
   "source": [
    "### 1.2 使用递归求阶乘"
   ]
  },
  {
   "cell_type": "markdown",
   "metadata": {},
   "source": [
    "#### 优点：\n",
    "* 递归使代码看起来更加整洁、优雅\n",
    "* 可以用递归将复杂任务分解成更简单的子问题\n",
    "* 使用递归比使用一些嵌套迭代更容易  \n",
    "\n",
    "#### 缺点:\n",
    "\n",
    "* 递归的逻辑很难调试、跟进\n",
    "* 递归调用的代价高昂（效率低），因为占用了大量的内存和时间。"
   ]
  },
  {
   "cell_type": "markdown",
   "metadata": {},
   "source": [
    "$ret = x_n \\cdot x_{n-1} \\cdot \\ ...\\ \\cdot  x_1 $"
   ]
  },
  {
   "cell_type": "markdown",
   "metadata": {},
   "source": [
    "    factorial(5)                        # 第 1 次调用使用 5   \n",
    "    5 * factorial(4)                    # 第 2 次调用使用 4   \n",
    "    5 * (4 * factorial(3))              # 第 3 次调用使用 3  \n",
    "    5 * (4 * (3 * factorial(2)))        # 第 4 次调用使用 2    \n",
    "    5 * (4 * (3 * (2 * factorial(1))))  # 第 5 次调用使用 1    \n",
    "    5 * (4 * (3 * (2 * 1)))             # 从第 5 次调用返回  \n",
    "    5 * (4 * (3 * 2))                   # 从第 4 次调用返回  \n",
    "    5 * (4 * 6)                         # 从第 3次调用返回  \n",
    "    5 * 24                              # 从第 2 次调用返回  \n",
    "    120                                 # 从第 1 次调用返回"
   ]
  },
  {
   "attachments": {},
   "cell_type": "markdown",
   "metadata": {},
   "source": [
    "## 2 生成器"
   ]
  },
  {
   "attachments": {},
   "cell_type": "markdown",
   "metadata": {},
   "source": [
    "## 2. Immutable（不可变） vs. Mutable（可变）  \n",
    "\n",
    "Immutable: int, float, tuple, string – 值传递  \n",
    "Mutable: 其它 – 引用传递\n"
   ]
  },
  {
   "cell_type": "markdown",
   "metadata": {},
   "source": [
    "## 3. filter() vs map()"
   ]
  },
  {
   "cell_type": "markdown",
   "metadata": {},
   "source": [
    "**filter(function, iterable)**      \n",
    "参数：  \n",
    "function -- 判断函数。  \n",
    "iterable -- 可迭代对象。   \n",
    "返回值：  \n",
    "返回一个满足function条件的迭代器对象  "
   ]
  },
  {
   "cell_type": "markdown",
   "metadata": {},
   "source": [
    "**map(function, iterable, ...)**   \n",
    "参数：  \n",
    "function -- 函数   \n",
    "iterable -- 一个或多个序列   \n",
    "返回值：  \n",
    "Python 2.x 返回function运行结果的列表。\n",
    "Python 3.x 返回function运行结果的迭代器。"
   ]
  }
 ],
 "metadata": {
  "kernelspec": {
   "display_name": "Python 3",
   "language": "python",
   "name": "python3"
  },
  "language_info": {
   "codemirror_mode": {
    "name": "ipython",
    "version": 3
   },
   "file_extension": ".py",
   "mimetype": "text/x-python",
   "name": "python",
   "nbconvert_exporter": "python",
   "pygments_lexer": "ipython3",
   "version": "3.6.7"
  }
 },
 "nbformat": 4,
 "nbformat_minor": 2
}
