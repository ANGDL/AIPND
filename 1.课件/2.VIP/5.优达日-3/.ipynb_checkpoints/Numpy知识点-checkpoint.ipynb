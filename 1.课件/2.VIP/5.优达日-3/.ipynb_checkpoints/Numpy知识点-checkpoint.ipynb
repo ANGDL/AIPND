{
 "cells": [
  {
   "cell_type": "markdown",
   "metadata": {},
   "source": [
    "## 1. numpy数组/矩阵的创建"
   ]
  },
  {
   "cell_type": "markdown",
   "metadata": {},
   "source": [
    "### 1.1 Python list vs Numpy array\n",
    "* python list不要求储存的数据类型完全一样\n",
    "* np.array要求储存的数据类型(整数·浮点数)完全一样"
   ]
  },
  {
   "cell_type": "code",
   "execution_count": 1,
   "metadata": {},
   "outputs": [],
   "source": [
    "import numpy as np"
   ]
  },
  {
   "cell_type": "code",
   "execution_count": 2,
   "metadata": {},
   "outputs": [
    {
     "name": "stdout",
     "output_type": "stream",
     "text": [
      "py_list:  [1, 2, 3, 4, 5, 6]\n",
      "np_arr: [1 2 3 4 5]\n"
     ]
    }
   ],
   "source": [
    "# 创建一个python list 和 numpy array\n",
    "py_list = [1, 2, 3, 4, 5, 6]\n",
    "np_arr = np.array([1 ,2 ,3 ,4, 5])\n",
    "print('py_list: ', py_list)\n",
    "print('np_arr:', np_arr)"
   ]
  },
  {
   "cell_type": "code",
   "execution_count": 4,
   "metadata": {},
   "outputs": [
    {
     "name": "stdout",
     "output_type": "stream",
     "text": [
      "[0 1 2 3 4 5 6 7 8 9]\n"
     ]
    }
   ],
   "source": [
    "print(np.array(range(10)))"
   ]
  },
  {
   "cell_type": "code",
   "execution_count": 5,
   "metadata": {
    "scrolled": true
   },
   "outputs": [
    {
     "name": "stdout",
     "output_type": "stream",
     "text": [
      "py_list:  [1, 2, 'str', 4, 5, 6]\n"
     ]
    },
    {
     "ename": "ValueError",
     "evalue": "invalid literal for int() with base 10: 'str'",
     "output_type": "error",
     "traceback": [
      "\u001b[1;31m---------------------------------------------------------------------------\u001b[0m",
      "\u001b[1;31mValueError\u001b[0m                                Traceback (most recent call last)",
      "\u001b[1;32m<ipython-input-5-9462677b9db0>\u001b[0m in \u001b[0;36m<module>\u001b[1;34m()\u001b[0m\n\u001b[0;32m      2\u001b[0m \u001b[0mpy_list\u001b[0m\u001b[1;33m[\u001b[0m\u001b[1;36m2\u001b[0m\u001b[1;33m]\u001b[0m \u001b[1;33m=\u001b[0m \u001b[1;34m'str'\u001b[0m\u001b[1;33m\u001b[0m\u001b[0m\n\u001b[0;32m      3\u001b[0m \u001b[0mprint\u001b[0m\u001b[1;33m(\u001b[0m\u001b[1;34m'py_list: '\u001b[0m\u001b[1;33m,\u001b[0m \u001b[0mpy_list\u001b[0m\u001b[1;33m)\u001b[0m\u001b[1;33m\u001b[0m\u001b[0m\n\u001b[1;32m----> 4\u001b[1;33m \u001b[0mnp_arr\u001b[0m\u001b[1;33m[\u001b[0m\u001b[1;36m2\u001b[0m\u001b[1;33m]\u001b[0m \u001b[1;33m=\u001b[0m \u001b[1;34m'str'\u001b[0m\u001b[1;33m\u001b[0m\u001b[0m\n\u001b[0m\u001b[0;32m      5\u001b[0m \u001b[0mprint\u001b[0m\u001b[1;33m(\u001b[0m\u001b[1;34m'np_arr:'\u001b[0m\u001b[1;33m,\u001b[0m \u001b[0mnp_arr\u001b[0m\u001b[1;33m)\u001b[0m\u001b[1;33m\u001b[0m\u001b[0m\n",
      "\u001b[1;31mValueError\u001b[0m: invalid literal for int() with base 10: 'str'"
     ]
    }
   ],
   "source": [
    "# 为py_list 和 np_arr 中一个元素赋非数值类型的值\n",
    "py_list[2] = 'str'\n",
    "print('py_list: ', py_list)\n",
    "np_arr[2] = 'str'\n",
    "print('np_arr:', np_arr)"
   ]
  },
  {
   "cell_type": "code",
   "execution_count": 6,
   "metadata": {
    "scrolled": true
   },
   "outputs": [
    {
     "name": "stdout",
     "output_type": "stream",
     "text": [
      "py_list:  [1, 2, 6.55, 4, 5, 6]\n",
      "np_arr: [1 2 6 4 5]\n"
     ]
    }
   ],
   "source": [
    "# 为py_list 和 np_arr 中一个元素赋一个数值类型的值\n",
    "py_list[2] = 6.55\n",
    "print('py_list: ', py_list)\n",
    "np_arr[2] = 6.55\n",
    "print('np_arr:', np_arr)"
   ]
  },
  {
   "cell_type": "markdown",
   "metadata": {},
   "source": [
    "### 1.2 查看 numpy arrray的数据类型"
   ]
  },
  {
   "cell_type": "code",
   "execution_count": 8,
   "metadata": {},
   "outputs": [
    {
     "data": {
      "text/plain": [
       "dtype('int32')"
      ]
     },
     "execution_count": 8,
     "metadata": {},
     "output_type": "execute_result"
    }
   ],
   "source": [
    "# 使用dtype(data type的缩写)\n",
    "np_arr.dtype"
   ]
  },
  {
   "cell_type": "code",
   "execution_count": 11,
   "metadata": {},
   "outputs": [
    {
     "data": {
      "text/plain": [
       "dtype('int32')"
      ]
     },
     "execution_count": 11,
     "metadata": {},
     "output_type": "execute_result"
    }
   ],
   "source": [
    "np.array([10, 1, 2, 3]).dtype"
   ]
  },
  {
   "cell_type": "markdown",
   "metadata": {},
   "source": [
    "### 1.3 指定numpy arrray的数据类型"
   ]
  },
  {
   "cell_type": "code",
   "execution_count": 12,
   "metadata": {},
   "outputs": [
    {
     "name": "stdout",
     "output_type": "stream",
     "text": [
      "arr_float:  [10.  1.  1.  1.]\n",
      "arr_float dtype: float16\n"
     ]
    }
   ],
   "source": [
    "arr_float = np.array([10, 1 ,1 ,1], dtype=np.float16)\n",
    "print('arr_float: ', arr_float)\n",
    "print('arr_float dtype:', arr_float.dtype)"
   ]
  },
  {
   "cell_type": "markdown",
   "metadata": {},
   "source": [
    "### 1.4 其他创建方式"
   ]
  },
  {
   "cell_type": "code",
   "execution_count": 16,
   "metadata": {},
   "outputs": [
    {
     "data": {
      "text/plain": [
       "[1, 3, 5, 7, 9]"
      ]
     },
     "execution_count": 16,
     "metadata": {},
     "output_type": "execute_result"
    }
   ],
   "source": [
    "list(range(1, 10, 2))"
   ]
  },
  {
   "cell_type": "code",
   "execution_count": 21,
   "metadata": {},
   "outputs": [
    {
     "name": "stdout",
     "output_type": "stream",
     "text": [
      "zeros_arr:[0. 0. 0. 0. 0. 0.], size=6\n",
      "ones_arr:[1. 1. 1. 1. 1. 1. 1. 1.], size=8\n",
      "full_k_arr:[10 10 10 10 10 10 10 10], size=8\n",
      "[1 4 7]\n",
      "linsapce_array:[ 1.          1.09090909  1.18181818  1.27272727  1.36363636  1.45454545\n",
      "  1.54545455  1.63636364  1.72727273  1.81818182  1.90909091  2.\n",
      "  2.09090909  2.18181818  2.27272727  2.36363636  2.45454545  2.54545455\n",
      "  2.63636364  2.72727273  2.81818182  2.90909091  3.          3.09090909\n",
      "  3.18181818  3.27272727  3.36363636  3.45454545  3.54545455  3.63636364\n",
      "  3.72727273  3.81818182  3.90909091  4.          4.09090909  4.18181818\n",
      "  4.27272727  4.36363636  4.45454545  4.54545455  4.63636364  4.72727273\n",
      "  4.81818182  4.90909091  5.          5.09090909  5.18181818  5.27272727\n",
      "  5.36363636  5.45454545  5.54545455  5.63636364  5.72727273  5.81818182\n",
      "  5.90909091  6.          6.09090909  6.18181818  6.27272727  6.36363636\n",
      "  6.45454545  6.54545455  6.63636364  6.72727273  6.81818182  6.90909091\n",
      "  7.          7.09090909  7.18181818  7.27272727  7.36363636  7.45454545\n",
      "  7.54545455  7.63636364  7.72727273  7.81818182  7.90909091  8.\n",
      "  8.09090909  8.18181818  8.27272727  8.36363636  8.45454545  8.54545455\n",
      "  8.63636364  8.72727273  8.81818182  8.90909091  9.          9.09090909\n",
      "  9.18181818  9.27272727  9.36363636  9.45454545  9.54545455  9.63636364\n",
      "  9.72727273  9.81818182  9.90909091 10.        ], size=100\n"
     ]
    }
   ],
   "source": [
    "# 创建值全部为0的numpy array,元素个数为6\n",
    "zeros_arr = np.zeros(6)\n",
    "# # 创建值全部为1的numpy array,元素个数为8\n",
    "ones_arr = np.ones(8)\n",
    "# # 创建值全部为任意值的numpy array,,元素个数为8\n",
    "full_k_arr = np.full(8, fill_value=10)\n",
    "# # 创建数值在某一区间内的numpy array\n",
    "arange_arr = np.arange(1, 10, 3)\n",
    "\n",
    "# # 创建元素个数为n,元素的数值在[s, e)区间内的numpy array\n",
    "# k, s, e = 10, 1, 9\n",
    "linsapce_array = np.linspace(1, 10, 100)\n",
    "print('zeros_arr:{}, size={}'.format(zeros_arr, zeros_arr.size))\n",
    "print('ones_arr:{}, size={}'.format(ones_arr, ones_arr.size))\n",
    "print('full_k_arr:{}, size={}'.format(full_k_arr, full_k_arr.size))\n",
    "print(arange_arr)\n",
    "print('linsapce_array:{}, size={}'.format(linsapce_array, linsapce_array.size))"
   ]
  },
  {
   "cell_type": "markdown",
   "metadata": {},
   "source": [
    "### 1.5 矩阵的创建"
   ]
  },
  {
   "cell_type": "code",
   "execution_count": 24,
   "metadata": {},
   "outputs": [
    {
     "data": {
      "text/plain": [
       "matrix([[1, 2],\n",
       "        [3, 4]])"
      ]
     },
     "execution_count": 24,
     "metadata": {},
     "output_type": "execute_result"
    }
   ],
   "source": [
    "np.mat('1 2; 3 4')"
   ]
  },
  {
   "cell_type": "code",
   "execution_count": 29,
   "metadata": {},
   "outputs": [
    {
     "data": {
      "text/plain": [
       "[[1, 2, 3], [1, 2, 3]]"
      ]
     },
     "execution_count": 29,
     "metadata": {},
     "output_type": "execute_result"
    }
   ],
   "source": [
    "[[1, 2, 3], [1, 2, 3]]"
   ]
  },
  {
   "cell_type": "code",
   "execution_count": 26,
   "metadata": {
    "scrolled": true
   },
   "outputs": [
    {
     "name": "stdout",
     "output_type": "stream",
     "text": [
      "[[1 2 3]\n",
      " [4 5 6]]\n",
      "--------------------------------------------------\n",
      "[[1 2]\n",
      " [3 4]]\n",
      "--------------------------------------------------\n",
      "[[0. 0.]\n",
      " [0. 0.]\n",
      " [0. 0.]]\n"
     ]
    }
   ],
   "source": [
    "# 手动创建\n",
    "mat_1 = np.array([\n",
    "    [1, 2, 3],\n",
    "    [4, 5, 6]\n",
    "])\n",
    "# # 使用np.mat()\n",
    "mat_2 = np.array(np.mat('1 2; 3 4'))\n",
    "# # 利用np.zeros()\n",
    "mat_3 = np.zeros((3, 2))\n",
    "print(mat_1)\n",
    "print('-'*50)\n",
    "print(mat_2)\n",
    "print('-'*50)\n",
    "print(mat_3)"
   ]
  },
  {
   "cell_type": "code",
   "execution_count": 31,
   "metadata": {},
   "outputs": [
    {
     "data": {
      "text/plain": [
       "array([[1.],\n",
       "       [1.]])"
      ]
     },
     "execution_count": 31,
     "metadata": {},
     "output_type": "execute_result"
    }
   ],
   "source": [
    "np.ones((2, 1))"
   ]
  },
  {
   "cell_type": "markdown",
   "metadata": {},
   "source": [
    "### 1.6 实用技巧"
   ]
  },
  {
   "cell_type": "code",
   "execution_count": 30,
   "metadata": {},
   "outputs": [],
   "source": [
    "np.ones?"
   ]
  },
  {
   "cell_type": "code",
   "execution_count": 32,
   "metadata": {},
   "outputs": [
    {
     "name": "stdout",
     "output_type": "stream",
     "text": [
      "Help on function ones in module numpy.core.numeric:\n",
      "\n",
      "ones(shape, dtype=None, order='C')\n",
      "    Return a new array of given shape and type, filled with ones.\n",
      "    \n",
      "    Parameters\n",
      "    ----------\n",
      "    shape : int or sequence of ints\n",
      "        Shape of the new array, e.g., ``(2, 3)`` or ``2``.\n",
      "    dtype : data-type, optional\n",
      "        The desired data-type for the array, e.g., `numpy.int8`.  Default is\n",
      "        `numpy.float64`.\n",
      "    order : {'C', 'F'}, optional\n",
      "        Whether to store multidimensional data in C- or Fortran-contiguous\n",
      "        (row- or column-wise) order in memory.\n",
      "    \n",
      "    Returns\n",
      "    -------\n",
      "    out : ndarray\n",
      "        Array of ones with the given shape, dtype, and order.\n",
      "    \n",
      "    See Also\n",
      "    --------\n",
      "    zeros, ones_like\n",
      "    \n",
      "    Examples\n",
      "    --------\n",
      "    >>> np.ones(5)\n",
      "    array([ 1.,  1.,  1.,  1.,  1.])\n",
      "    \n",
      "    >>> np.ones((5,), dtype=int)\n",
      "    array([1, 1, 1, 1, 1])\n",
      "    \n",
      "    >>> np.ones((2, 1))\n",
      "    array([[ 1.],\n",
      "           [ 1.]])\n",
      "    \n",
      "    >>> s = (2,2)\n",
      "    >>> np.ones(s)\n",
      "    array([[ 1.,  1.],\n",
      "           [ 1.,  1.]])\n",
      "\n"
     ]
    }
   ],
   "source": [
    "help(np.ones)"
   ]
  },
  {
   "cell_type": "markdown",
   "metadata": {},
   "source": [
    "### 1.7 生成随机数"
   ]
  },
  {
   "cell_type": "code",
   "execution_count": 34,
   "metadata": {},
   "outputs": [],
   "source": [
    " np.random.randint?"
   ]
  },
  {
   "cell_type": "code",
   "execution_count": 42,
   "metadata": {},
   "outputs": [
    {
     "name": "stdout",
     "output_type": "stream",
     "text": [
      "一个随机数： 7\n",
      "10个随机数： [4 1 2 6 6 4 8 2 3 8]\n",
      "一个二维随机矩阵：\n",
      "[[8 8 7 2 4 1]\n",
      " [4 2 7 3 3 2]\n",
      " [5 9 8 4 1 1]\n",
      " [1 6 4 5 4 4]\n",
      " [9 1 5 2 9 5]]\n"
     ]
    }
   ],
   "source": [
    "# 生成一个随机数, 数值区间[0, 10)\n",
    "k_1 = np.random.randint(0, 10)\n",
    "# 生成10个随机数, 数值区间[0, 10)\n",
    "k_10 = np.random.randint(0, 10, 10) \n",
    "# # 生成一个随机二维矩阵，数值区间[0, 10)\n",
    "mat_random = np.random.randint(0, 10, size=(5 ,6))\n",
    "\n",
    "print(\"一个随机数：\", k_1)\n",
    "print(\"10个随机数：\", k_10)\n",
    "print(\"一个二维随机矩阵：\")\n",
    "print(mat_random)"
   ]
  },
  {
   "cell_type": "markdown",
   "metadata": {},
   "source": [
    "### 1.8 每次生成相同的随机数"
   ]
  },
  {
   "cell_type": "code",
   "execution_count": 51,
   "metadata": {},
   "outputs": [
    {
     "name": "stdout",
     "output_type": "stream",
     "text": [
      "一个随机数： 3\n",
      "10个随机数： [7 7 0 1 0 9 8 9 4 9]\n",
      "一个二维随机矩阵：\n",
      "[[4 4 2 9 8 2]\n",
      " [4 2 5 5 4 0]\n",
      " [4 2 5 4 7 0]\n",
      " [4 7 1 0 2 1]\n",
      " [7 1 5 6 5 7]]\n"
     ]
    }
   ],
   "source": [
    "np.random.seed(1000)\n",
    "# 生成一个随机数, 数值区间[0, 10)\n",
    "k_1 = np.random.randint(0, 10)\n",
    "# 生成10个随机数, 数值区间[0, 10)\n",
    "k_10 = np.random.randint(0, 10, 10) \n",
    "# # 生成一个随机二维矩阵，数值区间[0, 10)\n",
    "mat_random = np.random.randint(0, 10, size=(5 ,6))\n",
    "\n",
    "print(\"一个随机数：\", k_1)\n",
    "print(\"10个随机数：\", k_10)\n",
    "print(\"一个二维随机矩阵：\")\n",
    "print(mat_random)"
   ]
  },
  {
   "cell_type": "markdown",
   "metadata": {},
   "source": [
    "## 2. Numpy array的基本操作\n",
    "### 2.1 基本属性"
   ]
  },
  {
   "cell_type": "code",
   "execution_count": 55,
   "metadata": {},
   "outputs": [
    {
     "name": "stdout",
     "output_type": "stream",
     "text": [
      "[[1 2 3]\n",
      " [4 5 6]\n",
      " [7 8 9]]\n",
      "2\n",
      "(3, 3)\n",
      "9\n"
     ]
    }
   ],
   "source": [
    "X = np.array(np.mat('1 2 3; 4 5 6; 7 8 9'))\n",
    "print(X)\n",
    "# ndim\n",
    "print(X.ndim)\n",
    "# shape\n",
    "print(X.shape)\n",
    "# size\n",
    "print(X.size)"
   ]
  },
  {
   "cell_type": "markdown",
   "metadata": {},
   "source": [
    "### 2.2 取值 / 赋值 / reshape"
   ]
  },
  {
   "cell_type": "code",
   "execution_count": 84,
   "metadata": {},
   "outputs": [
    {
     "name": "stdout",
     "output_type": "stream",
     "text": [
      "[[  1   2   3]\n",
      " [  4 666   6]\n",
      " [  7   8   9]]\n",
      "[[1 2 3]\n",
      " [4 5 6]\n",
      " [7 8 9]]\n",
      "[[  1   2   3]\n",
      " [  4 666   6]\n",
      " [  7   8   9]]\n"
     ]
    }
   ],
   "source": [
    "X = np.array(np.mat('1 2 3; 4 5 6; 7 8 9'))\n",
    "# print(X)\n",
    "# 取一个值\n",
    "# print(X[0,1])\n",
    "# 取指定行的值\n",
    "# print(X[-1])\n",
    "# 取指定列的值\n",
    "# print(X[:, 1])\n",
    "# 取指定行和列的值\n",
    "# print(X[:2, 2])\n",
    "\n",
    "# [][] vs [:,:]\n",
    "\n",
    "# 倒序\n",
    "# print(X[::-1, ::-1])\n",
    "# # 修改值\n",
    "# X[1,1] = 888\n",
    "# print(X)\n",
    "# copy\n",
    "X2 = X.copy()\n",
    "\n",
    "X3 = X\n",
    "\n",
    "X[1, 1] = 666\n",
    "print(X)\n",
    "print(X2)\n",
    "print(X3)\n",
    "# reshepe"
   ]
  },
  {
   "cell_type": "code",
   "execution_count": 75,
   "metadata": {},
   "outputs": [
    {
     "name": "stdout",
     "output_type": "stream",
     "text": [
      "[[1 3]\n",
      " [7 9]]\n"
     ]
    }
   ],
   "source": [
    "print(X[::2, ::2])"
   ]
  },
  {
   "cell_type": "code",
   "execution_count": 79,
   "metadata": {},
   "outputs": [
    {
     "name": "stdout",
     "output_type": "stream",
     "text": [
      "[[9 8 7]\n",
      " [3 2 1]]\n"
     ]
    }
   ],
   "source": [
    "print(X[::-2, ::-1])"
   ]
  },
  {
   "cell_type": "code",
   "execution_count": 66,
   "metadata": {},
   "outputs": [
    {
     "data": {
      "text/plain": [
       "array([[1, 2, 3],\n",
       "       [4, 5, 6]])"
      ]
     },
     "execution_count": 66,
     "metadata": {},
     "output_type": "execute_result"
    }
   ],
   "source": [
    "X[:2]"
   ]
  },
  {
   "cell_type": "code",
   "execution_count": 67,
   "metadata": {},
   "outputs": [
    {
     "name": "stdout",
     "output_type": "stream",
     "text": [
      "[[1 2 3]\n",
      " [4 5 6]]\n"
     ]
    }
   ],
   "source": [
    "print(X[:2][:2])"
   ]
  },
  {
   "cell_type": "markdown",
   "metadata": {},
   "source": [
    "### 2.3 合并， 注意拼接的维度"
   ]
  },
  {
   "cell_type": "code",
   "execution_count": 91,
   "metadata": {
    "scrolled": true
   },
   "outputs": [
    {
     "name": "stdout",
     "output_type": "stream",
     "text": [
      "[1 2 3]\n",
      "[1 1 1]\n",
      "[1 2 3 1 1 1]\n",
      "--------------------\n",
      "[[0 1 2]\n",
      " [3 4 5]]\n",
      "--------------------\n",
      "[[0 1 2]\n",
      " [3 4 5]\n",
      " [0 1 2]\n",
      " [3 4 5]]\n",
      "--------------------\n",
      "[[0 1 2 0 1 2]\n",
      " [3 4 5 3 4 5]]\n"
     ]
    }
   ],
   "source": [
    "# 两个一维向量拼接\n",
    "x1 = np.array([1, 2, 3])\n",
    "x2 = np.array([1, 1, 1])\n",
    "print(x1)\n",
    "print(x2)\n",
    "\n",
    "x1_x2 = np.concatenate([x1, x2])\n",
    "print(x1_x2)\n",
    "print('-' * 20)\n",
    "# # 两个二维矩阵拼接\n",
    "X = np.arange(6).reshape(2, 3)\n",
    "print(X)\n",
    "print('-' * 20)\n",
    "\n",
    "# # 按第一个维度拼接\n",
    "XX_0 = np.concatenate([X, X], axis=0)\n",
    "print(XX_0)\n",
    "print('-' * 20)\n",
    "# # 按第2个维度拼接\n",
    "XX_1 = np.concatenate([X, X], axis=1)\n",
    "print(XX_1)\n",
    "\n",
    "# 一个二维矩阵拼接 和 一个一维向量拼接\n",
    "# print(np.vstack([x1, x2]))"
   ]
  },
  {
   "cell_type": "code",
   "execution_count": 92,
   "metadata": {},
   "outputs": [
    {
     "data": {
      "text/plain": [
       "array([[0, 1, 2],\n",
       "       [3, 4, 5],\n",
       "       [0, 1, 2],\n",
       "       [3, 4, 5]])"
      ]
     },
     "execution_count": 92,
     "metadata": {},
     "output_type": "execute_result"
    }
   ],
   "source": [
    "np.vstack([X, X])"
   ]
  },
  {
   "cell_type": "code",
   "execution_count": 93,
   "metadata": {},
   "outputs": [
    {
     "data": {
      "text/plain": [
       "array([[0, 1, 2, 0, 1, 2],\n",
       "       [3, 4, 5, 3, 4, 5]])"
      ]
     },
     "execution_count": 93,
     "metadata": {},
     "output_type": "execute_result"
    }
   ],
   "source": [
    "np.hstack([X, X])"
   ]
  },
  {
   "cell_type": "code",
   "execution_count": 87,
   "metadata": {},
   "outputs": [
    {
     "data": {
      "text/plain": [
       "array([2, 3, 4])"
      ]
     },
     "execution_count": 87,
     "metadata": {},
     "output_type": "execute_result"
    }
   ],
   "source": [
    "x1 + x2"
   ]
  },
  {
   "cell_type": "code",
   "execution_count": 94,
   "metadata": {},
   "outputs": [],
   "source": [
    "np.hstack?"
   ]
  },
  {
   "cell_type": "markdown",
   "metadata": {},
   "source": [
    "### 2.4 分割"
   ]
  },
  {
   "cell_type": "code",
   "execution_count": 98,
   "metadata": {},
   "outputs": [
    {
     "name": "stdout",
     "output_type": "stream",
     "text": [
      "[0 1 2 3 4 5 6 7 8 9]\n",
      "[0 1]\n",
      "[2 3 4]\n",
      "[5 6]\n",
      "[7 8 9]\n"
     ]
    }
   ],
   "source": [
    "x = np.arange(10)\n",
    "print(x)\n",
    "# 分成3段\n",
    "x1, x2, x3, x4 = np.split(x, [2, 5, 7])\n",
    "\n",
    "print(x1)\n",
    "print(x2)\n",
    "print(x3)\n",
    "print(x4)"
   ]
  },
  {
   "cell_type": "code",
   "execution_count": 102,
   "metadata": {},
   "outputs": [
    {
     "name": "stdout",
     "output_type": "stream",
     "text": [
      "[[0 1 2]\n",
      " [3 4 5]\n",
      " [6 7 8]]\n",
      "--------------------\n",
      "[[0 1 2]]\n",
      "[[3 4 5]\n",
      " [6 7 8]]\n",
      "--------------------\n",
      "[[0 1]\n",
      " [3 4]\n",
      " [6 7]]\n",
      "[[2]\n",
      " [5]\n",
      " [8]]\n"
     ]
    }
   ],
   "source": [
    "X = np.arange(9).reshape(3, 3)\n",
    "print(X)\n",
    "print('-'*20)\n",
    "# 按行分割\n",
    "X_u, X_d = np.vsplit(X, [1])\n",
    "# 按列分割\n",
    "X_l, X_r = np.hsplit(X, [2])\n",
    "\n",
    "print(X_u)\n",
    "print(X_d)\n",
    "print('-'*20)\n",
    "print(X_l)\n",
    "print(X_r)"
   ]
  },
  {
   "cell_type": "markdown",
   "metadata": {},
   "source": [
    "## 推荐教程与书籍：\n",
    "* https://wizardforcel.gitbooks.io/ts-numpy-tut/content/3.html    \n",
    "或者下载https://legacy.gitbook.com/book/wizardforcel/ts-numpy-tut/details\n",
    "\n",
    "* 利用Python进行数据分析 第2版"
   ]
  }
 ],
 "metadata": {
  "kernelspec": {
   "display_name": "Python 3",
   "language": "python",
   "name": "python3"
  },
  "language_info": {
   "codemirror_mode": {
    "name": "ipython",
    "version": 3
   },
   "file_extension": ".py",
   "mimetype": "text/x-python",
   "name": "python",
   "nbconvert_exporter": "python",
   "pygments_lexer": "ipython3",
   "version": "3.6.5"
  }
 },
 "nbformat": 4,
 "nbformat_minor": 2
}
